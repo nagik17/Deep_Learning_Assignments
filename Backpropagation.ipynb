{
  "nbformat": 4,
  "nbformat_minor": 0,
  "metadata": {
    "colab": {
      "name": "Backpropagation_assignment.ipynb",
      "provenance": [],
      "collapsed_sections": []
    },
    "kernelspec": {
      "name": "python3",
      "display_name": "Python 3"
    }
  },
  "cells": [
    {
      "cell_type": "markdown",
      "metadata": {
        "id": "y871RZtRhCEH",
        "colab_type": "text"
      },
      "source": [
        "# <font color='red'>BackPropagation</font>"
      ]
    },
    {
      "cell_type": "markdown",
      "metadata": {
        "id": "LqePYi-4mFvK",
        "colab_type": "text"
      },
      "source": [
        "**There will be some functions that start with the word \"grader\" ex: grader_sigmoid(), grader_forwardprop(), grader_backprop() etc, you should not change those function definition.<br><br>Every Grader function has to return True.**"
      ]
    },
    {
      "cell_type": "markdown",
      "metadata": {
        "id": "0huUQ0byiI0I",
        "colab_type": "text"
      },
      "source": [
        "## <font color='red'>Loading data </font>"
      ]
    },
    {
      "cell_type": "code",
      "metadata": {
        "id": "onrUpDcx8aoB",
        "colab_type": "code",
        "colab": {
          "base_uri": "https://localhost:8080/",
          "height": 35
        },
        "outputId": "17ee9bf6-3a2f-42b1-f807-51096d513f59"
      },
      "source": [
        "from google.colab import drive\n",
        "drive.mount('/gdrive')"
      ],
      "execution_count": 16,
      "outputs": [
        {
          "output_type": "stream",
          "text": [
            "Drive already mounted at /gdrive; to attempt to forcibly remount, call drive.mount(\"/gdrive\", force_remount=True).\n"
          ],
          "name": "stdout"
        }
      ]
    },
    {
      "cell_type": "code",
      "metadata": {
        "id": "1hSje5CBgcUb",
        "colab_type": "code",
        "colab": {
          "base_uri": "https://localhost:8080/",
          "height": 54
        },
        "outputId": "6280d99d-5846-4f8b-f39d-41490c04e6fd"
      },
      "source": [
        "import pickle\n",
        "import numpy as np\n",
        "from tqdm import tqdm\n",
        "import matplotlib.pyplot as plt\n",
        "\n",
        "with open('/gdrive/My Drive/backpropagation/data.pkl', 'rb') as f:\n",
        "    data = pickle.load(f)\n",
        "print(data.shape)\n",
        "X = data[:, :5]\n",
        "y = data[:, -1]\n",
        "print(X.shape, y.shape)"
      ],
      "execution_count": 17,
      "outputs": [
        {
          "output_type": "stream",
          "text": [
            "(506, 6)\n",
            "(506, 5) (506,)\n"
          ],
          "name": "stdout"
        }
      ]
    },
    {
      "cell_type": "markdown",
      "metadata": {
        "id": "5JL-0soQistC",
        "colab_type": "text"
      },
      "source": [
        "# <font color='red'>Computational graph</font>"
      ]
    },
    {
      "cell_type": "markdown",
      "metadata": {
        "id": "nREnTTJ3i0Vd",
        "colab_type": "text"
      },
      "source": [
        "<img src='https://i.imgur.com/seSGbNS.png'>"
      ]
    },
    {
      "cell_type": "markdown",
      "metadata": {
        "id": "DSPX_H_4i_HT",
        "colab_type": "text"
      },
      "source": [
        "\n",
        "*  **If you observe the graph, we are having input features [f1, f2, f3, f4, f5] and 9 weights [w1, w2, w3, w4, w5, w6,    w7, w8, w9]**.<br><br>\n",
        "*  **The final output of this graph is a value L which is computed as (Y-Y')^2** "
      ]
    },
    {
      "cell_type": "markdown",
      "metadata": {
        "id": "D54eDEv6jkO4",
        "colab_type": "text"
      },
      "source": [
        "# <font color='red'>Task 1: Implementing backpropagation and Gradient checking </font>"
      ]
    },
    {
      "cell_type": "markdown",
      "metadata": {
        "id": "qocI1Vzqkod9",
        "colab_type": "text"
      },
      "source": [
        "<font color='blue'><b>Check this video for better understanding of the computational graphs and back propagation</font>"
      ]
    },
    {
      "cell_type": "code",
      "metadata": {
        "id": "Wb5WMdwJinlX",
        "colab_type": "code",
        "colab": {
          "base_uri": "https://localhost:8080/",
          "height": 521
        },
        "outputId": "749b72d2-67b4-4d93-b2ad-d6e87d192a36"
      },
      "source": [
        "from IPython.display import YouTubeVideo\n",
        "YouTubeVideo('i94OvYb6noo',width=\"1000\",height=\"500\")"
      ],
      "execution_count": 18,
      "outputs": [
        {
          "output_type": "execute_result",
          "data": {
            "text/html": [
              "\n",
              "        <iframe\n",
              "            width=\"1000\"\n",
              "            height=\"500\"\n",
              "            src=\"https://www.youtube.com/embed/i94OvYb6noo\"\n",
              "            frameborder=\"0\"\n",
              "            allowfullscreen\n",
              "        ></iframe>\n",
              "        "
            ],
            "text/plain": [
              "<IPython.lib.display.YouTubeVideo at 0x7f9d5f9519b0>"
            ],
            "image/jpeg": "[encoded data removed]"
          },
          "metadata": {
            "tags": []
          },
          "execution_count": 18
        }
      ]
    },
    {
      "cell_type": "markdown",
      "metadata": {
        "id": "2jecTyVRlh-6",
        "colab_type": "text"
      },
      "source": [
        "\n",
        "*  <b>Write two functions<br>\n",
        "    *  Forward propagation</b>(Write your code in<font color='blue'> def forward_propagation()</b></font>)<br><br>\n",
        "    For easy debugging, we will break the computational graph into 3 parts.\n",
        "\n",
        "    <font color='green'><b>Part 1</b></font></b>\n",
        "    <img src='https://i.imgur.com/0xUaxy6.png'><br><br>\n",
        "    <font color='green'><b>Part 2</b></font></b><br>\n",
        "    <img src='https://i.imgur.com/J29pAJL.png'><br><br>\n",
        "    <font color='green'><b>Part 3</b></font></b>\n",
        "    <img src='https://i.imgur.com/vMyCsd9.png'>\n",
        "\n",
        "    <pre>\n",
        "    <font color='green'>\n",
        "def forward_propagation(X, y, W):\n",
        "        <font color='grey'>\n",
        "        # X: input data point, note that in this assignment you are having 5-d data points\n",
        "        # y: output varible\n",
        "        # W: weight array, its of length 9, W[0] corresponds to w1 in graph, W[1] corresponds to w2 in graph, <br>         ..., W[8] corresponds to w9 in graph.  \n",
        "        # you have to return the following variables\n",
        "        # exp= part1 (compute the forward propagation until exp and then store the values in exp)\n",
        "        # tanh =part2(compute the forward propagation until tanh and then store the values in tanh)\n",
        "        # sig = part3(compute the forward propagation until sigmoid and then store the values in sig)\n",
        "        # now compute remaining values from computional graph and get y'\n",
        "        # write code to compute the value of L=(y-y')^2\n",
        "        # compute derivative of L  w.r.to Y' and store it in dl\n",
        "        # Create a dictionary to store all the intermediate values\n",
        "        # store L, exp,tanh,sig,dl variables\n",
        "        </font>\n",
        "        return (dictionary, which you might need to use for back propagation)\n",
        "        <font color='grey'>\n",
        "        </font>\n",
        "</font>\n",
        "</pre>\n",
        "    *  <b>Backward propagation</b>(Write your code in<font color='blue'> def backward_propagation()</b></font>)\n",
        "    </b>\n",
        "    <pre>\n",
        "    <font color='green'>\n",
        "    def backward_propagation(L, W,dictionary):\n",
        "        <font color='grey'>\n",
        "        # L: the loss we calculated for the current point\n",
        "        # dictionary: the outputs of the forward_propagation() function\n",
        "        # write code to compute the gradients of each weight [w1,w2,w3,...,w9]\n",
        "        # Hint: you can use dict type to store the required variables \n",
        "        # return dW, dW is a dictionary with gradients of all the weights\n",
        "        </font>\n",
        "        return dW\n",
        "        </font>\n",
        "</font>\n",
        "</pre>"
      ]
    },
    {
      "cell_type": "markdown",
      "metadata": {
        "id": "STS4NrQQc6OH",
        "colab_type": "text"
      },
      "source": [
        " ## <font color='red'>Gradient clipping</font>"
      ]
    },
    {
      "cell_type": "markdown",
      "metadata": {
        "id": "XY7ivRNzdPok",
        "colab_type": "text"
      },
      "source": [
        "<b> Check this  <a href='https://towardsdatascience.com/how-to-debug-a-neural-network-with-gradient-checking-41deec0357a9'>blog link</a> for more details on Gradient clipping"
      ]
    },
    {
      "cell_type": "markdown",
      "metadata": {
        "id": "BrsfpDoidtZ5",
        "colab_type": "text"
      },
      "source": [
        " we know that the derivative of any function is\n",
        " \n",
        " $$\\lim_{\\epsilon\\to0}\\frac{f(x+\\epsilon)-f(x-\\epsilon)}{2\\epsilon}$$\n"
      ]
    },
    {
      "cell_type": "markdown",
      "metadata": {
        "id": "vUcmt0kPd02f",
        "colab_type": "text"
      },
      "source": [
        "*  The definition above can be used as a numerical approximation of the derivative. Taking an epsilon small enough, the calculated approximation will have an error in the range of epsilon squared. \n",
        "\n",
        "*  In other words, if epsilon is 0.001, the approximation will be off by 0.00001.\n",
        "\n",
        "Therefore, we can use this to approximate the gradient, and in turn make sure that backpropagation is implemented properly. This forms the basis of <b>gradient checking!</b>"
      ]
    },
    {
      "cell_type": "markdown",
      "metadata": {
        "id": "pFSu16KCeU0x",
        "colab_type": "text"
      },
      "source": [
        "## <Font color='blue'>Gradient checking example</font>"
      ]
    },
    {
      "cell_type": "markdown",
      "metadata": {
        "id": "Gz0mmT_xecfC",
        "colab_type": "text"
      },
      "source": [
        "<font >\n",
        "lets understand the concept with a simple example:\n",
        "$f(w1,w2,x1,x2)=w_{1}^{2} . x_{1} + w_{2} . x_{2}$ \n",
        "\n",
        "from the above function , lets assume $w_{1}=1$, $w_{2}=2$, $x_{1}=3$, $x_{2}=4$ the gradient of $f$ w.r.t $w_{1}$ is\n",
        "\n",
        "\\begin{array} {lcl}\n",
        "\\frac{df}{dw_{1}} = dw_{1} &=&2.w_{1}.x_{1} \\\\& = &2.1.3\\\\& = &6\n",
        "\\end{array}\n",
        "\n",
        "\n",
        "let calculate the aproximate gradient of $w_{1}$ as mentinoned in the above formula and considering $\\epsilon=0.0001$\n",
        "\n",
        "\\begin{array} {lcl}\n",
        "dw_1^{approx} & = & \\frac{f(w1+\\epsilon,w2,x1,x2)-f(w1-\\epsilon,w2,x1,x2)}{2\\epsilon} \\\\ & = & \\frac{((1+0.0001)^{2} . 3 + 2 . 4) - ((1-0.0001)^{2} . 3 + 2 . 4)}{2\\epsilon} \\\\ & = & \\frac{(1.00020001 . 3 + 2 . 4) - (0.99980001. 3 + 2 . 4)}{2*0.0001} \\\\ & = & \\frac{(11.00060003) - (10.99940003)}{0.0002}\\\\ & = & 5.99999999999\n",
        "\\end{array}\n",
        "\n",
        "Then, we apply the following formula for gradient check: <i>gradient_check</i> = \n",
        "$\\frac{\\left\\Vert\\left (dW-dW^{approx}\\rm\\right) \\right\\Vert_2}{\\left\\Vert\\left (dW\\rm\\right) \\right\\Vert_2+\\left\\Vert\\left (dW^{approx}\\rm\\right) \\right\\Vert_2}$\n",
        "\n",
        "The equation above is basically the Euclidean distance normalized by the sum of the norm of the vectors. We use normalization in case that one of the vectors is very small.\n",
        "As a value for epsilon, we usually opt for 1e-7. Therefore, if gradient check return a value less than 1e-7, then it means that backpropagation was implemented correctly. Otherwise, there is potentially a mistake in your implementation. If the value exceeds 1e-3, then you are sure that the code is not correct.\n",
        "\n",
        "in our example: <i>gradient_check</i> $ = \\frac{(6 - 5.999999999994898)}{(6 + 5.999999999994898)} = 4.2514140356330737e^{-13}$\n",
        "\n",
        "you can mathamatically derive the same thing like this\n",
        "\n",
        "\\begin{array} {lcl}\n",
        "dw_1^{approx} & = & \\frac{f(w1+\\epsilon,w2,x1,x2)-f(w1-\\epsilon,w2,x1,x2)}{2\\epsilon} \\\\ & = & \\frac{((w_{1}+\\epsilon)^{2} . x_{1} + w_{2} . x_{2}) - ((w_{1}-\\epsilon)^{2} . x_{1} + w_{2} . x_{2})}{2\\epsilon} \\\\ & = & \\frac{4. \\epsilon.w_{1}. x_{1}}{2\\epsilon} \\\\ & = &  2.w_{1}.x_{1}\n",
        "\\end{array}\n"
      ]
    },
    {
      "cell_type": "markdown",
      "metadata": {
        "id": "f1BFQQaCermK",
        "colab_type": "text"
      },
      "source": [
        "## <font color='red'> Implement Gradient checking </font> <br>\n",
        " (Write your code in <font color='blue'> def gradient_checking()</font>)"
      ]
    },
    {
      "cell_type": "markdown",
      "metadata": {
        "id": "GqpfA3AqfJba",
        "colab_type": "text"
      },
      "source": [
        "**Algorithm** \n",
        "\n"
      ]
    },
    {
      "cell_type": "markdown",
      "metadata": {
        "id": "FL39KeRFfNoD",
        "colab_type": "text"
      },
      "source": [
        "<pre>\n",
        "<font color='darkblue'>\n",
        "W = initilize_randomly\n",
        "def gradient_checking(data_point, W):<font color='grey'>\n",
        "    # compute the L value using forward_propagation()\n",
        "    # compute the gradients of W using backword_propagation()</font>\n",
        "    approx_gradients = []\n",
        "    for each wi weight value in W:<font color='grey'>\n",
        "        # add a small value to weight wi, and then find the values of L with the updated weights\n",
        "        # subtract a small value to weight wi, and then find the values of L with the updated weights\n",
        "        # compute the approximation gradients of weight wi</font>\n",
        "        approx_gradients.append(approximation gradients of weight wi)<font color='grey'>\n",
        "    # compare the gradient of weights W from backword_propagation() with the aproximation gradients of weights with <br>  gradient_check formula</font>\n",
        "    return gradient_check</font>\n",
        "<b>NOTE: you can do sanity check by checking all the return values of gradient_checking(),<br> they have to be zero. if not you have bug in your code\n",
        "</pre></b>"
      ]
    },
    {
      "cell_type": "markdown",
      "metadata": {
        "id": "0ufbFBFfhgL0",
        "colab_type": "text"
      },
      "source": [
        "# <font color='red'> Task 2 : Optimizers </font>"
      ]
    },
    {
      "cell_type": "markdown",
      "metadata": {
        "id": "7zt05soYh1RM",
        "colab_type": "text"
      },
      "source": [
        "* As a part of this task, you will be implementing 3 type of optimizers(methods to update weight)\n",
        "* Use the same computational graph that was mentioned above to do this task\n",
        "* Initilze the 9 weights from normal distribution with mean=0 and std=0.01"
      ]
    },
    {
      "cell_type": "markdown",
      "metadata": {
        "id": "CAyi7aSAicbr",
        "colab_type": "text"
      },
      "source": [
        "**Check below video and <a href='https://cs231n.github.io/neural-networks-3/'>this</a> blog**"
      ]
    },
    {
      "cell_type": "code",
      "metadata": {
        "id": "ZogcxiegkQpz",
        "colab_type": "code",
        "colab": {
          "base_uri": "https://localhost:8080/",
          "height": 521
        },
        "outputId": "09c37ce7-9ef1-4a03-db31-7f5b6dd1d3a1"
      },
      "source": [
        "from IPython.display import YouTubeVideo\n",
        "YouTubeVideo('gYpoJMlgyXA',width=\"1000\",height=\"500\")"
      ],
      "execution_count": 19,
      "outputs": [
        {
          "output_type": "execute_result",
          "data": {
            "text/html": [
              "\n",
              "        <iframe\n",
              "            width=\"1000\"\n",
              "            height=\"500\"\n",
              "            src=\"https://www.youtube.com/embed/gYpoJMlgyXA\"\n",
              "            frameborder=\"0\"\n",
              "            allowfullscreen\n",
              "        ></iframe>\n",
              "        "
            ],
            "text/plain": [
              "<IPython.lib.display.YouTubeVideo at 0x7f9d5ab634a8>"
            ],
            "image/jpeg": "[encoded data removed]"
          },
          "metadata": {
            "tags": []
          },
          "execution_count": 19
        }
      ]
    },
    {
      "cell_type": "markdown",
      "metadata": {
        "id": "jmefh7ktjbaR",
        "colab_type": "text"
      },
      "source": [
        "<font color='blue'><b>Algorithm</b>"
      ]
    },
    {
      "cell_type": "markdown",
      "metadata": {
        "id": "nAc4NudkjdNa",
        "colab_type": "text"
      },
      "source": [
        "<pre>\n",
        "    for each epoch(1-100):\n",
        "        for each data point in your data:\n",
        "            using the functions forward_propagation() and backword_propagation() compute the gradients of weights\n",
        "            update the weigts with help of gradients  ex: w1 = w1-learning_rate*dw1\n",
        "</pre>"
      ]
    },
    {
      "cell_type": "markdown",
      "metadata": {
        "id": "_fdmPNqtjm3X",
        "colab_type": "text"
      },
      "source": [
        "## <font color='red'> Implement below tasks</b>"
      ]
    },
    {
      "cell_type": "markdown",
      "metadata": {
        "id": "Ll9-CRsLjx_D",
        "colab_type": "text"
      },
      "source": [
        "\n",
        "*  <b>Task 2.1</b>: you will be implementing the above algorithm with <b>Vanilla update</b> of weights<br><br>\n",
        "*  <b>Task 2.2</b>: you will be implementing the above algorithm with <b>Momentum update</b> of weights<br><br>\n",
        "*  <b>Task 2.3</b>: you will be implementing the above algorithm with <b>Adam update</b> of weights\n"
      ]
    },
    {
      "cell_type": "markdown",
      "metadata": {
        "id": "atp082demrUR",
        "colab_type": "text"
      },
      "source": [
        "**Note : If you get any assertion error while running grader functions, please print the variables in grader functions and check which variable is returning False .Recheck your logic for that variable .**"
      ]
    },
    {
      "cell_type": "markdown",
      "metadata": {
        "id": "phG2WDkjkuIL",
        "colab_type": "text"
      },
      "source": [
        "<br>\n",
        "<br>\n",
        "<br>"
      ]
    },
    {
      "cell_type": "markdown",
      "metadata": {
        "id": "CBaPzHP63grG",
        "colab_type": "text"
      },
      "source": [
        "# <font color='red'>Task 1 </font>"
      ]
    },
    {
      "cell_type": "markdown",
      "metadata": {
        "id": "QfmV3FUgSrBo",
        "colab_type": "text"
      },
      "source": [
        "## <font color='blue'>Forward propagation </font>"
      ]
    },
    {
      "cell_type": "code",
      "metadata": {
        "id": "5_pBivcY30qf",
        "colab_type": "code",
        "colab": {}
      },
      "source": [
        "import math\n",
        "def sigmoid(z):\n",
        "    '''In this function, we will compute the sigmoid(z)'''\n",
        "    # we can use this function in forward and backward propagation\n",
        "    \n",
        "    return 1/(1+math.exp(-z))\n",
        "    \n",
        "\n",
        "def forward_propagation(x, y, w):\n",
        "        '''In this function, we will compute the forward propagation '''\n",
        "        # X: input data point, note that in this assignment you are having 5-d data points\n",
        "        # y: output varible\n",
        "        # W: weight array, its of length 9, W[0] corresponds to w1 in graph, W[1] corresponds to w2 in graph,..., W[8] corresponds to w9 in graph.  \n",
        "        # you have to return the following variables\n",
        "        # exp= part1 (compute the forward propagation until exp and then store the values in exp)\n",
        "        # tanh =part2(compute the forward propagation until tanh and then store the values in tanh)\n",
        "        # sig = part3(compute the forward propagation until sigmoid and then store the values in sig)\n",
        "        # now compute remaining values from computional graph and get y'\n",
        "        # write code to compute the value of L=(y-y')^2\n",
        "        # compute derivative of L  w.r.to Y' and store it in dl\n",
        "        # Create a dictionary to store all the intermediate values\n",
        "        # store L, exp,tanh,sig variables\n",
        "        d = dict(); \n",
        "        exp = math.exp(w[5] + (((w[0]*x[0]) + (w[1]+x[1]))**2))\n",
        "        tanh = math.tanh(w[6]+exp)\n",
        "        sig = sigmoid(w[7]+((math.sin(w[2]*x[2]))*((w[3]*x[3])+(w[4]+x[4]))))\n",
        "        y_dash = tanh + (w[8]*sig)\n",
        "        L = (y-y_dash)**2\n",
        "        dl = (-2)*(y-y_dash)\n",
        "        d['dl'] = dl; d['loss'] = L;  d['exp'] = exp; d['tanh'] = tanh; d['sigmoid'] = sig;\n",
        "        return d #(dictionary, which you might need to use for back propagation)"
      ],
      "execution_count": 20,
      "outputs": []
    },
    {
      "cell_type": "markdown",
      "metadata": {
        "id": "z-z1rGKqCHNN",
        "colab_type": "text"
      },
      "source": [
        "<font color='cyan'>Grader function - 1</font>"
      ]
    },
    {
      "cell_type": "code",
      "metadata": {
        "id": "6ZxFF00zBmx1",
        "colab_type": "code",
        "colab": {
          "base_uri": "https://localhost:8080/",
          "height": 35
        },
        "outputId": "a4e3c3f8-eee0-44c2-d8da-7c66a7895372"
      },
      "source": [
        "def grader_sigmoid(z):\n",
        "  val=sigmoid(z)\n",
        "  assert(val==0.8807970779778823)\n",
        "  return True\n",
        "grader_sigmoid(2)"
      ],
      "execution_count": 21,
      "outputs": [
        {
          "output_type": "execute_result",
          "data": {
            "text/plain": [
              "True"
            ]
          },
          "metadata": {
            "tags": []
          },
          "execution_count": 21
        }
      ]
    },
    {
      "cell_type": "markdown",
      "metadata": {
        "id": "KgAUXq_aChey",
        "colab_type": "text"
      },
      "source": [
        "<font color='cyan'>Grader function - 2 </font>"
      ]
    },
    {
      "cell_type": "code",
      "metadata": {
        "id": "3uzsUqcjCorN",
        "colab_type": "code",
        "colab": {
          "base_uri": "https://localhost:8080/",
          "height": 35
        },
        "outputId": "ca292517-2845-4281-97cb-8acbb2582696"
      },
      "source": [
        "def grader_forwardprop(data):\n",
        "    dl = (np.round(data['dl'],4)==-1.9268)  #85)\n",
        "    loss=(np.round(data['loss'],4)==0.9281)\n",
        "    part1=(np.round(data['exp'],4)==1.1299) #73)\n",
        "    part2=(np.round(data['tanh'],4)==0.8426)\n",
        "    part3=(np.round(data['sigmoid'],4)==0.5290)\n",
        "    assert(dl and loss and part1 and part2 and part3)\n",
        "    return True\n",
        "w=np.ones(9)*0.1\n",
        "d1=forward_propagation(X[0],y[0],w)\n",
        "\n",
        "grader_forwardprop(d1)"
      ],
      "execution_count": 22,
      "outputs": [
        {
          "output_type": "execute_result",
          "data": {
            "text/plain": [
              "True"
            ]
          },
          "metadata": {
            "tags": []
          },
          "execution_count": 22
        }
      ]
    },
    {
      "cell_type": "markdown",
      "metadata": {
        "id": "obOaAqj3Sxvb",
        "colab_type": "text"
      },
      "source": [
        "## <font color='blue'>Backward propagation</font>"
      ]
    },
    {
      "cell_type": "code",
      "metadata": {
        "id": "dS49ykcOGhIv",
        "colab_type": "code",
        "colab": {}
      },
      "source": [
        "def backward_propagation(x,w,dict1):\n",
        "    '''In this function, we will compute the backward propagation '''\n",
        "    # L: the loss we calculated for the current point\n",
        "    # dictionary: the outputs of the forward_propagation() function\n",
        "    # write code to compute the gradients of each weight [w1,w2,w3,...,w9]\n",
        "    # Hint: you can use dict type to store the required variables \n",
        "    d = dict1; f1 = x[0]; f2 = x[1]; f3 = x[2]; f4 = x[3]; f5 = x[4];\n",
        "    dW = dict(); L = d['loss']\n",
        "    # dw1 = # in dw1 compute derivative of L w.r.to w1\n",
        "    dw1 = (-2)*(L)*(1-(d['tanh'])**2)*d['exp']*2*((w[0]*f1)+(w[1]*f2))*f1\n",
        "    dW['dw1'] = dw1\n",
        "    # dw2 = # in dw2 compute derivative of L w.r.to w2\n",
        "    dw2 = (-2)*(L)*(1-(d['tanh'])**2)*d['exp']*2*((w[0]*f1)+(w[1]*f2))*f2\n",
        "    dW['dw2'] = dw2\n",
        "    # dw3 = # in dw3 compute derivative of L w.r.to w3\n",
        "    dw3 = (-2)*(L)*w[8]*d['sigmoid']*(1-d['sigmoid'])*((w[3]*f4)+(w[4]*f5))*np.cos(w[2]*f3)*f3\n",
        "    dW['dw3'] = dw3\n",
        "    # dw4 = # in dw4 compute derivative of L w.r.to w4\n",
        "    dw4 = (-2)*(L)*(w[8]*d['sigmoid']*(1-d['sigmoid']))*np.sin(w[2]*f3)*f4\n",
        "    dW['dw4'] = dw4\n",
        "    # dw5 = # in dw5 compute derivative of L w.r.to w5\n",
        "    dw5 = (-2)*(L)*(w[8]*d['sigmoid']*(1-d['sigmoid']))*np.sin(w[2]*f3)*f5\n",
        "    dW['dw5'] = dw5\n",
        "    # dw6 = # in dw6 compute derivative of L w.r.to w6\n",
        "    dw6 = (-2)*(L)*(1-(d['tanh'])**2)*(d['exp'])\n",
        "    dW['dw6'] = dw6\n",
        "    # dw7 = # in dw7 compute derivative of L w.r.to w7\n",
        "    dw7 = (-2)*(L)*(1-(d['tanh'])**2)\n",
        "    dW['dw7'] = dw7\n",
        "    # dw8 = # in dw8 compute derivative of L w.r.to w8\n",
        "    dw8 = (-2)*(L)*w[8]*(d['sigmoid'])*(1-d['sigmoid'])\n",
        "    dW['dw8'] = dw8\n",
        "    # dw9 = # in dw9 compute derivative of L w.r.to w9\n",
        "    dw9 = (-2)*(L)*d['sigmoid']\n",
        "    dW['dw9'] = dw9\n",
        "    \n",
        "    \n",
        "    return dW # dW is a dictionary with gradients of all the weights"
      ],
      "execution_count": 23,
      "outputs": []
    },
    {
      "cell_type": "markdown",
      "metadata": {
        "id": "2NpZWAVlS4jb",
        "colab_type": "text"
      },
      "source": [
        "<font color='cyan'>Grader function - 3 </font>"
      ]
    },
    {
      "cell_type": "code",
      "metadata": {
        "id": "1a8Kll2xGhMJ",
        "colab_type": "code",
        "colab": {}
      },
      "source": [
        "def grader_backprop(data):\n",
        "    dw1=(np.round(data['dw1'],8)==-0.22973323)\n",
        "    print(dw1)\n",
        "    dw2=(np.round(data['dw2'],8)==-0.02140761)\n",
        "    \n",
        "    dw3=(np.round(data['dw3'],8)==-0.00562541)\n",
        "    dw4=(np.round(data['dw4'],8)==-0.00465794)\n",
        "    dw5=(np.round(data['dw5'],8)==-0.00100772)\n",
        "    dw6=(np.round(data['dw6'],8)==-0.63347519)\n",
        "    dw7=(np.round(data['dw7'],8)==-0.56194184)\n",
        "    dw8=(np.round(data['dw8'],8)==-0.04806288)\n",
        "    dw9=(np.round(data['dw9'],8)==-1.01810444)\n",
        "    assert(dw1 and dw2 and dw3 and dw4 and dw5 and dw6 and dw7 and dw8 and dw9)\n",
        "    return True \n",
        "w=np.ones(9)*0.1\n",
        "d1=forward_propagation(X[0],y[0],w)\n",
        "d1=backward_propagation(X[0],w,d1)\n",
        "#grader_backprop(d1)"
      ],
      "execution_count": 24,
      "outputs": []
    },
    {
      "cell_type": "code",
      "metadata": {
        "id": "of30UQADDv_J",
        "colab_type": "code",
        "colab": {
          "base_uri": "https://localhost:8080/",
          "height": 181
        },
        "outputId": "60762a37-b543-4561-f51f-48c4c78ded00"
      },
      "source": [
        "d1 # values are differing in last digits"
      ],
      "execution_count": 25,
      "outputs": [
        {
          "output_type": "execute_result",
          "data": {
            "text/plain": [
              "{'dw1': -0.22066245986309954,\n",
              " 'dw2': -0.020562357569586107,\n",
              " 'dw3': -0.005413264884353204,\n",
              " 'dw4': -0.004482284751652815,\n",
              " 'dw5': -0.0009697204296574961,\n",
              " 'dw6': -0.6084630859327206,\n",
              " 'dw7': -0.5385032367092971,\n",
              " 'dw8': -0.04625037588519732,\n",
              " 'dw9': -0.9819558022592065}"
            ]
          },
          "metadata": {
            "tags": []
          },
          "execution_count": 25
        }
      ]
    },
    {
      "cell_type": "markdown",
      "metadata": {
        "id": "1rfHHXZwgwo6",
        "colab_type": "text"
      },
      "source": [
        "## <font color='blue'> Implement gradient checking</font>"
      ]
    },
    {
      "cell_type": "code",
      "metadata": {
        "id": "oh8wj1yjGhOi",
        "colab_type": "code",
        "colab": {}
      },
      "source": [
        "from numpy import linalg as LA\n",
        "from scipy.spatial import distance\n",
        "w = np.ones(9)*0.1\n",
        "#initilize_randomly\n",
        "def gradient_checking(X,Y, w):\n",
        "    #X = data_point[0]; Y = data_point[1]\n",
        "    \n",
        "    # compute the L value using forward_propagation()\n",
        "    # compute the gradients of W using backword_propagation()\n",
        "    d2=forward_propagation(X,Y,w) # gives L\n",
        "    d2=backward_propagation(X,w,d2) # gives gradients dL/dw\n",
        "    d2_values = list(d2.values()) # storing derivatives as a list\n",
        "    approx_gradients = [] \n",
        "    for i in range(len(w)): #each wi weight value in W:\n",
        "        # add a small value to weight wi, and then find the values of L with the updated weights\n",
        "        delta= 10**(-4)\n",
        "        w_plus = w; \n",
        "        \n",
        "        w_plus[i] = w_plus[i]+delta \n",
        "        print(w_plus)\n",
        "        L1 = forward_propagation(X,Y,w_plus)\n",
        "        L1 = L1['loss']\n",
        "        # subtract a small value to weight wi, and then find the values of L with the updated weights\n",
        "        \n",
        "        w_minus = w;\n",
        "        w_minus[i]=w_minus[i]-delta\n",
        "        L2 = forward_propagation(X,Y,w_minus)['loss']\n",
        "        # compute the approximation gradients of weight wi\n",
        "        approx =  (L1-L2) /(2*delta)\n",
        "        approx_gradients.append(approx)\n",
        "   \n",
        "    # compare the gradient of weights W from backword_propagation() with the aproximation gradients of weights with gradient_check formula\n",
        "    \n",
        "    #gradient_check = LA.norm(list(np.array(d1_values)-np.array(approx_gradients)))/(LA.norm(d1_values)+LA.norm(approx_gradients))\n",
        "    num = LA.norm([d2_values[k] - approx_gradients[k] for k in range(len(d2_values))])\n",
        "    denom = (LA.norm(d2_values)+LA.norm(approx_gradients))\n",
        "    gradient_check = num/denom\n",
        "    return approx_gradients"
      ],
      "execution_count": 26,
      "outputs": []
    },
    {
      "cell_type": "code",
      "metadata": {
        "id": "c50pVZjmww7_",
        "colab_type": "code",
        "colab": {}
      },
      "source": [
        "from numpy import linalg as LA\n",
        "from scipy.spatial import distance\n",
        "w = np.ones(9)*0.1\n",
        "gradient_check=[]\n",
        "#initilize_randomly\n",
        "def gradient_checking(X,Y, w):\n",
        "    approx_gradients=[];gradient_check=[];\n",
        "    # compute the L value using forward_propagation()\n",
        "    # compute the gradients of W using backword_propagation()\n",
        "    d2=forward_propagation(X,Y,w) # gives L\n",
        "    d2=backward_propagation(X,w,d2) # gives gradients dL/dw\n",
        "    d2_values = list(d2.values()) # storing derivatives as a list\n",
        "    for i in range(len(w)): #each wi weight value in W:\n",
        "        # add a small value to weight wi, and then find the values of L with the updated weights\n",
        "        w1=w.copy()\n",
        "        delta = 10**(-4)\n",
        "        w1[i]+=delta\n",
        "        \n",
        "        L1 = forward_propagation(X,Y,w1)\n",
        "        L1 = L1['loss']\n",
        "        # subtract a small value to weight wi, and then find the values of L with the updated weights\n",
        "        w1[i]-=2*delta\n",
        "        L2 = forward_propagation(X,Y,w1)['loss']\n",
        "        # compute the approximation gradients of weight wi\n",
        "        approx = (1/(2*delta))* (L1-L2)\n",
        "        approx_gradients.append(approx)\n",
        "        gc = (d2_values[i]-approx)/(d2_values[i]+approx)\n",
        "        gradient_check.append(gc)  \n",
        "        \n",
        "         \n",
        "    return gradient_check"
      ],
      "execution_count": 27,
      "outputs": []
    },
    {
      "cell_type": "code",
      "metadata": {
        "id": "eQ-t-WJ61DaW",
        "colab_type": "code",
        "colab": {
          "base_uri": "https://localhost:8080/",
          "height": 35
        },
        "outputId": "cb342a9c-64d2-4ea4-b954-a00e5bb63354"
      },
      "source": [
        "gradient_check = gradient_checking(X[0],y[0],w)\n",
        "count=0\n",
        "for i in gradient_check:\n",
        "  if i < 10**(-8):\n",
        "    count = count+1\n",
        "if count == 9:\n",
        "  print(\"Back Propagation was implemented correctly\")\n",
        "else:\n",
        "  print(\"Back Propagation was not implemented correctly\")"
      ],
      "execution_count": 28,
      "outputs": [
        {
          "output_type": "stream",
          "text": [
            "Back Propagation was implemented correctly\n"
          ],
          "name": "stdout"
        }
      ]
    },
    {
      "cell_type": "code",
      "metadata": {
        "id": "jzuSiNJ0vkS_",
        "colab_type": "code",
        "colab": {
          "base_uri": "https://localhost:8080/",
          "height": 181
        },
        "outputId": "8ed6c0fa-3322-4c13-d407-70e625514da8"
      },
      "source": [
        "gradient_checking(X[0],y[0],w)\n"
      ],
      "execution_count": 29,
      "outputs": [
        {
          "output_type": "execute_result",
          "data": {
            "text/plain": [
              "[-0.04628636519641983,\n",
              " -1.2456643038265345,\n",
              " -0.17335980396612263,\n",
              " -0.01864392790686803,\n",
              " -1.3227139173627753,\n",
              " -0.018643927090959553,\n",
              " -0.01864393099514833,\n",
              " -0.018643927430874205,\n",
              " -0.018643927845271625]"
            ]
          },
          "metadata": {
            "tags": []
          },
          "execution_count": 29
        }
      ]
    },
    {
      "cell_type": "markdown",
      "metadata": {
        "id": "MhwDSe99kJ32",
        "colab_type": "text"
      },
      "source": [
        "# <font color='red'>Task 2: Optimizers"
      ]
    },
    {
      "cell_type": "markdown",
      "metadata": {
        "id": "jJzI-vnPk1dB",
        "colab_type": "text"
      },
      "source": [
        "###<font color='blue'>Algorithm with Vanilla update of weights</font>"
      ]
    },
    {
      "cell_type": "code",
      "metadata": {
        "id": "xJspU6ZuGhRQ",
        "colab_type": "code",
        "colab": {}
      },
      "source": [
        "\n",
        "epoch = 100\n",
        "loss1=[]\n",
        "theta, sigma = 0, 0.01 # mean and standard deviation # theta = mean\n",
        "w = np.random.normal(theta, sigma,9)\n",
        "\n",
        "learning_rate = 0.00001\n",
        "for k in range(epoch):\n",
        "    for i in range(len(X)):\n",
        "      fwd=forward_propagation(X[i],y[i],w) \n",
        "      bck=backward_propagation(X[i],w,fwd)\n",
        "      grad = list(bck.values())\n",
        "      for i in range(9):\n",
        "        w[i] = w[i] - learning_rate* grad[i]\n",
        "      #w = list(np.array(w) - np.array([learning_rate * j for j in grad]))\n",
        "    loss1.append(fwd['loss'])\n",
        "    \n",
        "            #using the functions forward_propagation() and backword_propagation() compute the gradients of weights\n",
        "            #update the weigts with help of gradients  ex: w1 = w1-learning_rate*dw1"
      ],
      "execution_count": 101,
      "outputs": []
    },
    {
      "cell_type": "markdown",
      "metadata": {
        "id": "UlTLXrvmlR26",
        "colab_type": "text"
      },
      "source": [
        "<font color='blue'>Plot between epochs and loss</font>"
      ]
    },
    {
      "cell_type": "code",
      "metadata": {
        "id": "CjTCVUIoGhTo",
        "colab_type": "code",
        "colab": {
          "base_uri": "https://localhost:8080/",
          "height": 295
        },
        "outputId": "ab6e9958-760f-40b3-cf56-7287a90c20f3"
      },
      "source": [
        "plt.plot(list(range(100)), loss1) \n",
        "  \n",
        "# naming the x axis \n",
        "plt.xlabel('Epoch') \n",
        "# naming the y axis \n",
        "plt.ylabel('Loss') \n",
        "  \n",
        "# giving a title to my graph \n",
        "plt.title('Vanilla Update') \n",
        "  \n",
        "# function to show the plot \n",
        "plt.show()"
      ],
      "execution_count": 102,
      "outputs": [
        {
          "output_type": "display_data",
          "data": {
            "image/png": "[encoded data removed]",
            "text/plain": [
              "<Figure size 432x288 with 1 Axes>"
            ]
          },
          "metadata": {
            "tags": [],
            "needs_background": "light"
          }
        }
      ]
    },
    {
      "cell_type": "markdown",
      "metadata": {
        "id": "cv_hZFWalS2z",
        "colab_type": "text"
      },
      "source": [
        "###<font color='blue'>Algorithm with Momentum update of weights</font>"
      ]
    },
    {
      "cell_type": "code",
      "metadata": {
        "id": "uucCdyQrGhZt",
        "colab_type": "code",
        "colab": {}
      },
      "source": [
        "epoch = 100\n",
        "loss2=[]\n",
        "theta, sigma = 0, 0.01 # mean and standard deviation # theta = mean\n",
        "w = np.random.normal(theta, sigma,9)\n",
        "mu = 0.9\n",
        "v=[0]*9\n",
        "learning_rate = 0.00001\n",
        "for k in range(epoch):\n",
        "    for i in range(len(X)):\n",
        "      fwd=forward_propagation(X[i],y[i],w) \n",
        "      bck=backward_propagation(X[i],w,fwd)\n",
        "      grad = list(bck.values())\n",
        "      for i in range(9):\n",
        "        v[i] = mu * v[i] - learning_rate*grad[i]\n",
        "        w[i] = w[i] +v[i]\n",
        "    loss2.append(fwd['loss'])\n",
        "\n",
        "            #using the functions forward_propagation() and backword_propagation() compute the gradients of weights\n",
        "            #update the weigts with help of gradients  ex: w1 = w1-learning_rate*dw1"
      ],
      "execution_count": 103,
      "outputs": []
    },
    {
      "cell_type": "markdown",
      "metadata": {
        "id": "Ow20azfKlVhn",
        "colab_type": "text"
      },
      "source": [
        "<font color='blue'>Plot between epochs and loss</font>"
      ]
    },
    {
      "cell_type": "code",
      "metadata": {
        "id": "u-m90Sq_Ghce",
        "colab_type": "code",
        "colab": {
          "base_uri": "https://localhost:8080/",
          "height": 295
        },
        "outputId": "634f2399-a7b8-42f3-e4f2-20b744bc6d40"
      },
      "source": [
        "plt.plot(range(epoch), loss2) \n",
        "  \n",
        "# naming the x axis \n",
        "plt.xlabel('Epoch') \n",
        "# naming the y axis \n",
        "plt.ylabel('Loss') \n",
        "  \n",
        "# giving a title to my graph \n",
        "plt.title('Momentum Update') \n",
        "  \n",
        "# function to show the plot \n",
        "plt.show()"
      ],
      "execution_count": 104,
      "outputs": [
        {
          "output_type": "display_data",
          "data": {
            "image/png": "[encoded data removed]",
            "text/plain": [
              "<Figure size 432x288 with 1 Axes>"
            ]
          },
          "metadata": {
            "tags": [],
            "needs_background": "light"
          }
        }
      ]
    },
    {
      "cell_type": "markdown",
      "metadata": {
        "id": "V4RWWrZ7lWap",
        "colab_type": "text"
      },
      "source": [
        "###<font color='blue'>Algorithm with Adam update of weights</font>"
      ]
    },
    {
      "cell_type": "code",
      "metadata": {
        "id": "9T87w2TuoM6T",
        "colab_type": "code",
        "colab": {}
      },
      "source": [
        "epoch = 100\n",
        "eps = 1e-8\n",
        "beta1=0.9\n",
        "beta2=0.999\n",
        "m=[0]*9;v=[0]*9\n",
        "mt=[0]*9;vt=[0]*9\n",
        "loss3=[]\n",
        "theta, sigma = 0, 0.01 # mean and standard deviation # theta = mean\n",
        "w = np.random.normal(theta, sigma,9)\n",
        "\n",
        "learning_rate = 0.0001\n",
        "for k in range(epoch):\n",
        "    for i in range(len(X)):\n",
        "      fwd=forward_propagation(X[i],y[i],w) \n",
        "      bck=backward_propagation(X[i],w,fwd)\n",
        "      grad = list(bck.values())\n",
        "      for i in range(9):\n",
        "        m[i] = beta1*m[i] + (1-beta1)*grad[i]\n",
        "        mt[i] = m[i] / (1-beta1**(k+1))\n",
        "        v[i] = beta2*v[i] + (1-beta2)*(grad[i]**2)\n",
        "        vt[i] = v[i] / (1-beta2**(k+1))\n",
        "        w[i] += - learning_rate * mt[i] / (np.sqrt(vt[i]) + eps)\n",
        "      \n",
        "    loss3.append(fwd['loss'])\n",
        "\n",
        "            #using the functions forward_propagation() and backword_propagation() compute the gradients of weights\n",
        "            #update the weigts with help of gradients  ex: w1 = w1-learning_rate*dw1"
      ],
      "execution_count": 105,
      "outputs": []
    },
    {
      "cell_type": "markdown",
      "metadata": {
        "id": "MMy0nBw-lXml",
        "colab_type": "text"
      },
      "source": [
        "<font color='blue'>Plot between epochs and loss</font>"
      ]
    },
    {
      "cell_type": "code",
      "metadata": {
        "id": "aiFRk_uFlm2V",
        "colab_type": "code",
        "colab": {
          "base_uri": "https://localhost:8080/",
          "height": 295
        },
        "outputId": "a6a5e12c-c1b6-4270-a1d4-0ae28d27653b"
      },
      "source": [
        "plt.plot(range(epoch), loss3) \n",
        "  \n",
        "# naming the x axis \n",
        "plt.xlabel('Epoch') \n",
        "# naming the y axis \n",
        "plt.ylabel('Loss') \n",
        "  \n",
        "# giving a title to my graph \n",
        "plt.title('Adam Update') \n",
        "  \n",
        "# function to show the plot \n",
        "plt.show()"
      ],
      "execution_count": 107,
      "outputs": [
        {
          "output_type": "display_data",
          "data": {
            "image/png": "[encoded data removed]",
            "text/plain": [
              "<Figure size 432x288 with 1 Axes>"
            ]
          },
          "metadata": {
            "tags": [],
            "needs_background": "light"
          }
        }
      ]
    },
    {
      "cell_type": "markdown",
      "metadata": {
        "id": "7627cy8YlnYO",
        "colab_type": "text"
      },
      "source": [
        "<font color='blue'>Comparision plot between epochs and loss with different optimizers</font>"
      ]
    },
    {
      "cell_type": "code",
      "metadata": {
        "id": "scleSfIXl_bC",
        "colab_type": "code",
        "colab": {
          "base_uri": "https://localhost:8080/",
          "height": 295
        },
        "outputId": "e0923970-0ad2-4b89-b0a1-584f4d05a787"
      },
      "source": [
        "epoch = list(range(100))\n",
        "plt.plot(epoch,loss1,'b',epoch, loss2,'g',epoch,loss3,'r' )\n",
        "plt.title(\"Comparing the loss with different optimizers\")\n",
        "plt.xlabel('Epoch')\n",
        "plt.ylabel('Loss')\n",
        "plt.legend(('Vanilla', 'Momentum','Adam'))\n",
        "plt.show()"
      ],
      "execution_count": 108,
      "outputs": [
        {
          "output_type": "display_data",
          "data": {
            "image/png": "[encoded data removed]",
            "text/plain": [
              "<Figure size 432x288 with 1 Axes>"
            ]
          },
          "metadata": {
            "tags": [],
            "needs_background": "light"
          }
        }
      ]
    },
    {
      "cell_type": "markdown",
      "metadata": {
        "id": "hwWY7svYthhU",
        "colab_type": "text"
      },
      "source": [
        "### Summary:\n",
        "1. Task 1 was about implementing forward and backward propagation functions.\n",
        "2. Task 2 was to plot the loss with different optimizers such as Vanilla sgd, Momentum based, Adam.\n",
        "3. As seen above, Adam and Momentum updates work better with our data where as Vanilla is not reducing loss as effectively with increase in epoch."
      ]
    }
  ]
}