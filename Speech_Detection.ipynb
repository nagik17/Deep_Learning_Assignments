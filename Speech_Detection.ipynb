{
  "nbformat": 4,
  "nbformat_minor": 0,
  "metadata": {
    "kernelspec": {
      "display_name": "Python 3",
      "language": "python",
      "name": "python3"
    },
    "language_info": {
      "codemirror_mode": {
        "name": "ipython",
        "version": 3
      },
      "file_extension": ".py",
      "mimetype": "text/x-python",
      "name": "python",
      "nbconvert_exporter": "python",
      "pygments_lexer": "ipython3",
      "version": "3.6.2"
    },
    "colab": {
      "name": "Speech detection Assignment.ipynb",
      "provenance": [],
      "collapsed_sections": [
        "aSl8ZOXjaNqJ"
      ]
    }
  },
  "cells": [
    {
      "cell_type": "markdown",
      "metadata": {
        "id": "ZwoTWIysaNmc"
      },
      "source": [
        "<pre><font size=6>Spoken Digit Recognition</font></pre>"
      ]
    },
    {
      "cell_type": "markdown",
      "metadata": {
        "id": "rPO3mjDDaNmf"
      },
      "source": [
        "<pre>\n",
        "In this notebook, You will do Spoken Digit Recognition. \n",
        "\n",
        "Input - speech signal, output - digit number\n",
        "\n",
        "\n",
        "\n",
        "It contains  \n",
        "\n",
        "1. Reading the dataset. and Preprocess the data set. Detailed instrctions are given below. You have to write the code in the same cell which contains the instrction. \n",
        "2. Training the LSTM with RAW data\n",
        "3. Converting to spectrogram and Training the LSTM network\n",
        "4. Creating the augmented data and doing step 2 and 3 again.  \n",
        "\n",
        "<font size=5>instructions:</font>\n",
        "\n",
        "    1. Don't change any Grader Functions. Don't manipulate any Grader functions. If you manipulate any, it will be considered as plagiarised. \n",
        "    \n",
        "    2. Please read the instructions on the code cells and markdown cells. We will explain what to write. \n",
        "    \n",
        "    3. please return outputs in the same format what we asked. Eg. Don't return List of we are asking for a numpy array.\n",
        "    \n",
        "    4. Please read the external links that we are given so that you will learn the concept behind the code that you are writing.\n",
        "    \n",
        "    5. We are giving instructions at each section if necessary, please follow them. \n",
        "\n",
        "<font size=5>Every Grader function has to return True. </font>\n",
        "\n",
        "</pre>"
      ]
    },
    {
      "cell_type": "code",
      "metadata": {
        "id": "_qGuPcj-aNmh"
      },
      "source": [
        "import numpy as np\n",
        "import pandas as pd\n",
        "import librosa\n",
        "import os\n",
        "\n",
        "##if you need any imports you can do that here. "
      ],
      "execution_count": 1,
      "outputs": []
    },
    {
      "cell_type": "markdown",
      "metadata": {
        "id": "PdhFzGK1aNmo"
      },
      "source": [
        "We shared recordings.zip, please unzip those. "
      ]
    },
    {
      "cell_type": "code",
      "metadata": {
        "id": "8SQgPRu6gbp2",
        "outputId": "6d4fa1cc-bd42-4de1-8f96-ac38467eb560",
        "colab": {
          "base_uri": "https://localhost:8080/",
          "height": 34
        }
      },
      "source": [
        "from google.colab import drive\n",
        "drive.mount('/content/drive')"
      ],
      "execution_count": 2,
      "outputs": [
        {
          "output_type": "stream",
          "text": [
            "Mounted at /content/drive\n"
          ],
          "name": "stdout"
        }
      ]
    },
    {
      "cell_type": "code",
      "metadata": {
        "id": "HDBcl_PUaNmp"
      },
      "source": [
        "#read the all file names in the recordings folder given by us\n",
        "#(if you get entire path, it is very useful in future)\n",
        "#save those files names as list in \"all_files\"\n",
        "recordings = '/content/drive/My Drive/recordings'\n",
        "all_files=[]\n",
        "for filename in os.listdir('/content/drive/My Drive/recordings'):\n",
        "    if filename.endswith('.wav'):\n",
        "        with open(os.path.join('/content/drive/My Drive/recordings', filename)) as f:\n",
        "            #content = f.read()\n",
        "            all_files.append(filename)\n",
        "\n",
        "\n",
        "  "
      ],
      "execution_count": null,
      "outputs": []
    },
    {
      "cell_type": "code",
      "metadata": {
        "id": "0UYHZZXWn2Gr",
        "outputId": "b008d10a-0862-4ff7-eb50-93b0b5ffeae3",
        "colab": {
          "base_uri": "https://localhost:8080/",
          "height": 1000
        }
      },
      "source": [
        "all_files"
      ],
      "execution_count": null,
      "outputs": [
        {
          "output_type": "execute_result",
          "data": {
            "text/plain": [
              "['8_theo_39.wav',\n",
              " '8_nicolas_6.wav',\n",
              " '2_yweweler_4.wav',\n",
              " '9_nicolas_21.wav',\n",
              " '8_yweweler_46.wav',\n",
              " '7_yweweler_45.wav',\n",
              " '7_jackson_8.wav',\n",
              " '4_theo_7.wav',\n",
              " '6_nicolas_41.wav',\n",
              " '4_nicolas_29.wav',\n",
              " '0_theo_23.wav',\n",
              " '2_theo_26.wav',\n",
              " '3_nicolas_2.wav',\n",
              " '1_nicolas_11.wav',\n",
              " '4_nicolas_5.wav',\n",
              " '0_theo_10.wav',\n",
              " '0_nicolas_7.wav',\n",
              " '1_theo_12.wav',\n",
              " '7_yweweler_29.wav',\n",
              " '6_theo_3.wav',\n",
              " '7_jackson_46.wav',\n",
              " '9_theo_16.wav',\n",
              " '8_nicolas_23.wav',\n",
              " '4_yweweler_10.wav',\n",
              " '7_nicolas_23.wav',\n",
              " '0_nicolas_26.wav',\n",
              " '3_theo_18.wav',\n",
              " '5_yweweler_36.wav',\n",
              " '8_jackson_36.wav',\n",
              " '1_yweweler_28.wav',\n",
              " '0_yweweler_13.wav',\n",
              " '4_jackson_3.wav',\n",
              " '2_yweweler_45.wav',\n",
              " '3_yweweler_47.wav',\n",
              " '6_nicolas_43.wav',\n",
              " '7_jackson_7.wav',\n",
              " '1_jackson_13.wav',\n",
              " '6_jackson_25.wav',\n",
              " '2_jackson_37.wav',\n",
              " '6_nicolas_6.wav',\n",
              " '5_jackson_40.wav',\n",
              " '0_theo_14.wav',\n",
              " '2_jackson_6.wav',\n",
              " '1_theo_43.wav',\n",
              " '4_nicolas_40.wav',\n",
              " '4_nicolas_14.wav',\n",
              " '4_nicolas_26.wav',\n",
              " '8_nicolas_49.wav',\n",
              " '4_yweweler_49.wav',\n",
              " '0_nicolas_23.wav',\n",
              " '2_nicolas_2.wav',\n",
              " '6_yweweler_11.wav',\n",
              " '6_jackson_19.wav',\n",
              " '3_jackson_27.wav',\n",
              " '0_nicolas_27.wav',\n",
              " '7_nicolas_45.wav',\n",
              " '6_yweweler_26.wav',\n",
              " '1_theo_34.wav',\n",
              " '8_theo_24.wav',\n",
              " '5_jackson_30.wav',\n",
              " '4_nicolas_39.wav',\n",
              " '6_yweweler_8.wav',\n",
              " '7_nicolas_19.wav',\n",
              " '7_jackson_2.wav',\n",
              " '4_theo_17.wav',\n",
              " '6_jackson_27.wav',\n",
              " '1_yweweler_0.wav',\n",
              " '2_jackson_46.wav',\n",
              " '6_jackson_40.wav',\n",
              " '4_theo_44.wav',\n",
              " '8_yweweler_13.wav',\n",
              " '6_jackson_0.wav',\n",
              " '5_yweweler_22.wav',\n",
              " '4_jackson_45.wav',\n",
              " '5_yweweler_4.wav',\n",
              " '4_yweweler_4.wav',\n",
              " '7_theo_29.wav',\n",
              " '4_nicolas_41.wav',\n",
              " '2_yweweler_18.wav',\n",
              " '6_nicolas_47.wav',\n",
              " '5_theo_4.wav',\n",
              " '4_nicolas_3.wav',\n",
              " '2_nicolas_1.wav',\n",
              " '9_nicolas_5.wav',\n",
              " '9_nicolas_34.wav',\n",
              " '4_jackson_43.wav',\n",
              " '9_yweweler_35.wav',\n",
              " '6_jackson_10.wav',\n",
              " '5_nicolas_28.wav',\n",
              " '6_jackson_38.wav',\n",
              " '2_jackson_40.wav',\n",
              " '0_theo_2.wav',\n",
              " '7_jackson_23.wav',\n",
              " '8_yweweler_49.wav',\n",
              " '6_nicolas_25.wav',\n",
              " '0_yweweler_16.wav',\n",
              " '0_nicolas_35.wav',\n",
              " '2_theo_49.wav',\n",
              " '1_jackson_12.wav',\n",
              " '0_yweweler_8.wav',\n",
              " '5_jackson_1.wav',\n",
              " '2_nicolas_15.wav',\n",
              " '3_yweweler_29.wav',\n",
              " '8_jackson_2.wav',\n",
              " '9_theo_9.wav',\n",
              " '6_theo_24.wav',\n",
              " '4_theo_48.wav',\n",
              " '5_nicolas_23.wav',\n",
              " '9_jackson_5.wav',\n",
              " '2_jackson_38.wav',\n",
              " '6_jackson_11.wav',\n",
              " '4_jackson_0.wav',\n",
              " '8_yweweler_35.wav',\n",
              " '1_yweweler_27.wav',\n",
              " '5_yweweler_8.wav',\n",
              " '0_yweweler_31.wav',\n",
              " '9_theo_23.wav',\n",
              " '2_nicolas_3.wav',\n",
              " '3_jackson_28.wav',\n",
              " '1_theo_24.wav',\n",
              " '2_theo_8.wav',\n",
              " '4_theo_33.wav',\n",
              " '1_nicolas_25.wav',\n",
              " '2_jackson_32.wav',\n",
              " '5_jackson_6.wav',\n",
              " '4_yweweler_22.wav',\n",
              " '6_jackson_39.wav',\n",
              " '9_theo_11.wav',\n",
              " '4_theo_23.wav',\n",
              " '8_yweweler_33.wav',\n",
              " '1_theo_2.wav',\n",
              " '8_jackson_43.wav',\n",
              " '5_jackson_38.wav',\n",
              " '3_theo_23.wav',\n",
              " '4_nicolas_27.wav',\n",
              " '0_yweweler_23.wav',\n",
              " '1_yweweler_11.wav',\n",
              " '8_yweweler_41.wav',\n",
              " '2_nicolas_40.wav',\n",
              " '2_yweweler_5.wav',\n",
              " '4_theo_32.wav',\n",
              " '2_nicolas_4.wav',\n",
              " '2_jackson_18.wav',\n",
              " '9_yweweler_3.wav',\n",
              " '9_theo_31.wav',\n",
              " '9_yweweler_2.wav',\n",
              " '0_nicolas_40.wav',\n",
              " '7_yweweler_37.wav',\n",
              " '9_nicolas_36.wav',\n",
              " '1_yweweler_14.wav',\n",
              " '5_yweweler_2.wav',\n",
              " '9_nicolas_9.wav',\n",
              " '8_yweweler_26.wav',\n",
              " '9_theo_46.wav',\n",
              " '1_yweweler_12.wav',\n",
              " '6_jackson_43.wav',\n",
              " '2_jackson_4.wav',\n",
              " '2_nicolas_12.wav',\n",
              " '5_nicolas_12.wav',\n",
              " '4_nicolas_36.wav',\n",
              " '2_jackson_20.wav',\n",
              " '6_yweweler_17.wav',\n",
              " '9_jackson_9.wav',\n",
              " '3_theo_48.wav',\n",
              " '0_theo_16.wav',\n",
              " '9_nicolas_24.wav',\n",
              " '6_yweweler_20.wav',\n",
              " '9_theo_19.wav',\n",
              " '4_yweweler_25.wav',\n",
              " '4_yweweler_7.wav',\n",
              " '6_jackson_22.wav',\n",
              " '6_nicolas_32.wav',\n",
              " '7_theo_14.wav',\n",
              " '9_yweweler_10.wav',\n",
              " '8_jackson_48.wav',\n",
              " '0_nicolas_21.wav',\n",
              " '2_jackson_23.wav',\n",
              " '6_jackson_3.wav',\n",
              " '0_yweweler_1.wav',\n",
              " '1_yweweler_16.wav',\n",
              " '2_jackson_41.wav',\n",
              " '3_theo_12.wav',\n",
              " '7_nicolas_8.wav',\n",
              " '9_yweweler_29.wav',\n",
              " '7_theo_42.wav',\n",
              " '0_yweweler_29.wav',\n",
              " '5_yweweler_34.wav',\n",
              " '6_jackson_29.wav',\n",
              " '1_jackson_40.wav',\n",
              " '1_jackson_48.wav',\n",
              " '4_theo_46.wav',\n",
              " '2_nicolas_34.wav',\n",
              " '1_theo_45.wav',\n",
              " '6_jackson_34.wav',\n",
              " '8_theo_0.wav',\n",
              " '9_theo_38.wav',\n",
              " '5_yweweler_48.wav',\n",
              " '8_yweweler_24.wav',\n",
              " '0_jackson_42.wav',\n",
              " '7_jackson_6.wav',\n",
              " '5_theo_20.wav',\n",
              " '5_yweweler_17.wav',\n",
              " '4_nicolas_30.wav',\n",
              " '6_theo_44.wav',\n",
              " '6_jackson_41.wav',\n",
              " '0_jackson_27.wav',\n",
              " '2_theo_20.wav',\n",
              " '2_theo_45.wav',\n",
              " '1_nicolas_30.wav',\n",
              " '8_jackson_10.wav',\n",
              " '7_yweweler_41.wav',\n",
              " '8_theo_16.wav',\n",
              " '1_jackson_35.wav',\n",
              " '8_jackson_46.wav',\n",
              " '6_theo_32.wav',\n",
              " '4_nicolas_32.wav',\n",
              " '3_jackson_26.wav',\n",
              " '1_yweweler_19.wav',\n",
              " '5_nicolas_44.wav',\n",
              " '7_theo_1.wav',\n",
              " '7_theo_43.wav',\n",
              " '8_theo_30.wav',\n",
              " '2_theo_46.wav',\n",
              " '9_theo_29.wav',\n",
              " '5_jackson_39.wav',\n",
              " '6_nicolas_35.wav',\n",
              " '6_nicolas_40.wav',\n",
              " '9_jackson_31.wav',\n",
              " '8_theo_31.wav',\n",
              " '5_nicolas_21.wav',\n",
              " '5_jackson_14.wav',\n",
              " '5_theo_35.wav',\n",
              " '0_jackson_0.wav',\n",
              " '3_jackson_20.wav',\n",
              " '4_nicolas_1.wav',\n",
              " '4_jackson_48.wav',\n",
              " '3_yweweler_46.wav',\n",
              " '1_nicolas_7.wav',\n",
              " '3_theo_44.wav',\n",
              " '1_jackson_15.wav',\n",
              " '0_jackson_38.wav',\n",
              " '3_nicolas_12.wav',\n",
              " '6_jackson_49.wav',\n",
              " '4_theo_6.wav',\n",
              " '9_jackson_41.wav',\n",
              " '3_yweweler_14.wav',\n",
              " '1_yweweler_39.wav',\n",
              " '6_theo_21.wav',\n",
              " '3_jackson_45.wav',\n",
              " '3_jackson_21.wav',\n",
              " '2_yweweler_9.wav',\n",
              " '5_yweweler_42.wav',\n",
              " '9_nicolas_17.wav',\n",
              " '2_jackson_1.wav',\n",
              " '5_nicolas_41.wav',\n",
              " '2_theo_18.wav',\n",
              " '5_nicolas_20.wav',\n",
              " '1_jackson_42.wav',\n",
              " '8_yweweler_20.wav',\n",
              " '9_nicolas_46.wav',\n",
              " '1_yweweler_1.wav',\n",
              " '1_theo_28.wav',\n",
              " '2_nicolas_24.wav',\n",
              " '1_nicolas_35.wav',\n",
              " '3_yweweler_25.wav',\n",
              " '1_theo_49.wav',\n",
              " '8_nicolas_18.wav',\n",
              " '5_jackson_32.wav',\n",
              " '3_theo_46.wav',\n",
              " '4_theo_40.wav',\n",
              " '8_jackson_37.wav',\n",
              " '2_theo_41.wav',\n",
              " '9_yweweler_33.wav',\n",
              " '5_jackson_2.wav',\n",
              " '5_yweweler_27.wav',\n",
              " '2_yweweler_14.wav',\n",
              " '9_nicolas_31.wav',\n",
              " '5_theo_47.wav',\n",
              " '5_jackson_31.wav',\n",
              " '1_theo_18.wav',\n",
              " '8_jackson_39.wav',\n",
              " '3_jackson_2.wav',\n",
              " '3_theo_33.wav',\n",
              " '1_nicolas_15.wav',\n",
              " '2_theo_17.wav',\n",
              " '9_theo_18.wav',\n",
              " '0_yweweler_40.wav',\n",
              " '5_yweweler_9.wav',\n",
              " '2_nicolas_6.wav',\n",
              " '1_jackson_18.wav',\n",
              " '6_yweweler_7.wav',\n",
              " '7_nicolas_34.wav',\n",
              " '1_nicolas_9.wav',\n",
              " '3_theo_11.wav',\n",
              " '0_nicolas_38.wav',\n",
              " '4_nicolas_42.wav',\n",
              " '5_theo_13.wav',\n",
              " '5_yweweler_15.wav',\n",
              " '7_theo_44.wav',\n",
              " '2_theo_1.wav',\n",
              " '4_nicolas_35.wav',\n",
              " '3_theo_10.wav',\n",
              " '1_nicolas_5.wav',\n",
              " '1_yweweler_20.wav',\n",
              " '8_theo_36.wav',\n",
              " '8_yweweler_16.wav',\n",
              " '0_theo_5.wav',\n",
              " '2_theo_35.wav',\n",
              " '4_jackson_20.wav',\n",
              " '6_nicolas_34.wav',\n",
              " '7_theo_4.wav',\n",
              " '5_nicolas_30.wav',\n",
              " '3_nicolas_34.wav',\n",
              " '4_yweweler_6.wav',\n",
              " '3_jackson_7.wav',\n",
              " '0_jackson_4.wav',\n",
              " '0_theo_37.wav',\n",
              " '6_theo_43.wav',\n",
              " '3_jackson_3.wav',\n",
              " '1_jackson_34.wav',\n",
              " '7_nicolas_32.wav',\n",
              " '7_yweweler_14.wav',\n",
              " '6_theo_11.wav',\n",
              " '2_jackson_24.wav',\n",
              " '0_jackson_35.wav',\n",
              " '0_jackson_31.wav',\n",
              " '2_yweweler_46.wav',\n",
              " '6_yweweler_16.wav',\n",
              " '7_jackson_21.wav',\n",
              " '3_yweweler_24.wav',\n",
              " '6_nicolas_23.wav',\n",
              " '3_yweweler_6.wav',\n",
              " '7_jackson_39.wav',\n",
              " '3_nicolas_47.wav',\n",
              " '2_yweweler_6.wav',\n",
              " '7_jackson_16.wav',\n",
              " '7_yweweler_25.wav',\n",
              " '9_yweweler_48.wav',\n",
              " '6_nicolas_21.wav',\n",
              " '1_yweweler_15.wav',\n",
              " '6_theo_9.wav',\n",
              " '4_jackson_33.wav',\n",
              " '9_yweweler_25.wav',\n",
              " '4_theo_27.wav',\n",
              " '6_theo_36.wav',\n",
              " '2_nicolas_11.wav',\n",
              " '7_jackson_20.wav',\n",
              " '9_nicolas_33.wav',\n",
              " '7_yweweler_49.wav',\n",
              " '3_theo_30.wav',\n",
              " '9_yweweler_38.wav',\n",
              " '3_theo_17.wav',\n",
              " '9_yweweler_19.wav',\n",
              " '2_yweweler_10.wav',\n",
              " '3_theo_4.wav',\n",
              " '8_jackson_1.wav',\n",
              " '2_yweweler_42.wav',\n",
              " '8_theo_43.wav',\n",
              " '4_nicolas_11.wav',\n",
              " '3_theo_7.wav',\n",
              " '4_nicolas_21.wav',\n",
              " '5_jackson_9.wav',\n",
              " '8_jackson_7.wav',\n",
              " '7_yweweler_2.wav',\n",
              " '1_theo_26.wav',\n",
              " '5_jackson_12.wav',\n",
              " '5_yweweler_44.wav',\n",
              " '5_nicolas_0.wav',\n",
              " '5_yweweler_40.wav',\n",
              " '2_theo_32.wav',\n",
              " '9_jackson_34.wav',\n",
              " '3_jackson_5.wav',\n",
              " '4_nicolas_6.wav',\n",
              " '4_jackson_15.wav',\n",
              " '3_nicolas_16.wav',\n",
              " '6_jackson_15.wav',\n",
              " '8_nicolas_41.wav',\n",
              " '6_yweweler_32.wav',\n",
              " '8_nicolas_27.wav',\n",
              " '2_jackson_34.wav',\n",
              " '3_theo_49.wav',\n",
              " '5_theo_14.wav',\n",
              " '8_theo_41.wav',\n",
              " '8_jackson_22.wav',\n",
              " '2_nicolas_5.wav',\n",
              " '0_yweweler_44.wav',\n",
              " '3_jackson_12.wav',\n",
              " '1_theo_23.wav',\n",
              " '5_jackson_29.wav',\n",
              " '2_jackson_39.wav',\n",
              " '9_jackson_25.wav',\n",
              " '6_theo_14.wav',\n",
              " '3_theo_15.wav',\n",
              " '8_jackson_38.wav',\n",
              " '4_theo_8.wav',\n",
              " '9_yweweler_27.wav',\n",
              " '1_nicolas_20.wav',\n",
              " '2_jackson_45.wav',\n",
              " '5_theo_45.wav',\n",
              " '1_theo_19.wav',\n",
              " '7_jackson_12.wav',\n",
              " '5_yweweler_29.wav',\n",
              " '0_nicolas_22.wav',\n",
              " '7_theo_34.wav',\n",
              " '8_nicolas_10.wav',\n",
              " '5_jackson_46.wav',\n",
              " '0_theo_1.wav',\n",
              " '3_jackson_11.wav',\n",
              " '0_nicolas_13.wav',\n",
              " '0_jackson_20.wav',\n",
              " '1_jackson_19.wav',\n",
              " '1_nicolas_37.wav',\n",
              " '4_nicolas_43.wav',\n",
              " '3_nicolas_15.wav',\n",
              " '0_nicolas_47.wav',\n",
              " '3_theo_8.wav',\n",
              " '2_jackson_42.wav',\n",
              " '0_nicolas_45.wav',\n",
              " '1_theo_41.wav',\n",
              " '9_theo_42.wav',\n",
              " '0_theo_40.wav',\n",
              " '9_nicolas_1.wav',\n",
              " '0_theo_27.wav',\n",
              " '1_nicolas_0.wav',\n",
              " '1_jackson_44.wav',\n",
              " '7_theo_17.wav',\n",
              " '7_yweweler_18.wav',\n",
              " '8_jackson_30.wav',\n",
              " '0_nicolas_33.wav',\n",
              " '9_jackson_20.wav',\n",
              " '6_jackson_33.wav',\n",
              " '3_nicolas_11.wav',\n",
              " '4_yweweler_46.wav',\n",
              " '8_jackson_29.wav',\n",
              " '7_jackson_41.wav',\n",
              " '0_nicolas_17.wav',\n",
              " '1_theo_15.wav',\n",
              " '4_nicolas_49.wav',\n",
              " '4_jackson_41.wav',\n",
              " '2_theo_43.wav',\n",
              " '5_yweweler_24.wav',\n",
              " '3_jackson_41.wav',\n",
              " '7_yweweler_15.wav',\n",
              " '0_nicolas_4.wav',\n",
              " '2_theo_0.wav',\n",
              " '7_jackson_38.wav',\n",
              " '1_yweweler_43.wav',\n",
              " '2_theo_42.wav',\n",
              " '3_nicolas_24.wav',\n",
              " '1_theo_17.wav',\n",
              " '8_jackson_31.wav',\n",
              " '7_nicolas_3.wav',\n",
              " '6_nicolas_48.wav',\n",
              " '5_nicolas_19.wav',\n",
              " '0_jackson_44.wav',\n",
              " '6_theo_46.wav',\n",
              " '7_theo_18.wav',\n",
              " '8_jackson_14.wav',\n",
              " '6_nicolas_31.wav',\n",
              " '7_theo_38.wav',\n",
              " '8_jackson_28.wav',\n",
              " '4_nicolas_16.wav',\n",
              " '9_nicolas_14.wav',\n",
              " '6_jackson_24.wav',\n",
              " '5_jackson_0.wav',\n",
              " '5_jackson_28.wav',\n",
              " '1_theo_48.wav',\n",
              " '9_nicolas_11.wav',\n",
              " '8_jackson_41.wav',\n",
              " '3_nicolas_21.wav',\n",
              " '1_yweweler_17.wav',\n",
              " '6_jackson_16.wav',\n",
              " '6_nicolas_26.wav',\n",
              " '1_jackson_37.wav',\n",
              " '7_nicolas_44.wav',\n",
              " '2_yweweler_21.wav',\n",
              " '2_jackson_43.wav',\n",
              " '1_theo_39.wav',\n",
              " '7_theo_25.wav',\n",
              " '0_nicolas_11.wav',\n",
              " '2_yweweler_43.wav',\n",
              " '1_yweweler_48.wav',\n",
              " '6_yweweler_38.wav',\n",
              " '6_jackson_20.wav',\n",
              " '2_jackson_16.wav',\n",
              " '6_yweweler_10.wav',\n",
              " '9_theo_43.wav',\n",
              " '4_theo_12.wav',\n",
              " '9_nicolas_23.wav',\n",
              " '0_theo_18.wav',\n",
              " '8_theo_9.wav',\n",
              " '3_theo_45.wav',\n",
              " '1_theo_7.wav',\n",
              " '2_jackson_30.wav',\n",
              " '7_jackson_28.wav',\n",
              " '8_jackson_20.wav',\n",
              " '5_jackson_44.wav',\n",
              " '4_nicolas_2.wav',\n",
              " '2_jackson_29.wav',\n",
              " '9_theo_25.wav',\n",
              " '3_jackson_30.wav',\n",
              " '1_nicolas_22.wav',\n",
              " '0_theo_44.wav',\n",
              " '7_nicolas_37.wav',\n",
              " '0_yweweler_17.wav',\n",
              " '5_jackson_22.wav',\n",
              " '0_yweweler_42.wav',\n",
              " '8_nicolas_13.wav',\n",
              " '0_nicolas_1.wav',\n",
              " '1_yweweler_40.wav',\n",
              " '6_theo_45.wav',\n",
              " '9_yweweler_13.wav',\n",
              " '7_jackson_47.wav',\n",
              " '5_nicolas_39.wav',\n",
              " '5_nicolas_14.wav',\n",
              " '7_jackson_26.wav',\n",
              " '8_jackson_32.wav',\n",
              " '4_jackson_30.wav',\n",
              " '8_jackson_15.wav',\n",
              " '0_nicolas_20.wav',\n",
              " '8_nicolas_43.wav',\n",
              " '5_jackson_20.wav',\n",
              " '9_yweweler_9.wav',\n",
              " '9_jackson_6.wav',\n",
              " '6_theo_7.wav',\n",
              " '8_jackson_8.wav',\n",
              " '7_nicolas_46.wav',\n",
              " '5_theo_19.wav',\n",
              " '6_yweweler_1.wav',\n",
              " '0_theo_43.wav',\n",
              " '1_nicolas_8.wav',\n",
              " '7_jackson_45.wav',\n",
              " '5_yweweler_49.wav',\n",
              " '4_yweweler_36.wav',\n",
              " '4_nicolas_37.wav',\n",
              " '8_theo_8.wav',\n",
              " '5_nicolas_33.wav',\n",
              " '4_theo_25.wav',\n",
              " '7_nicolas_27.wav',\n",
              " '7_yweweler_23.wav',\n",
              " '0_jackson_22.wav',\n",
              " '7_nicolas_41.wav',\n",
              " '0_jackson_21.wav',\n",
              " '2_jackson_28.wav',\n",
              " '8_yweweler_36.wav',\n",
              " '9_theo_33.wav',\n",
              " '6_jackson_18.wav',\n",
              " '8_nicolas_20.wav',\n",
              " '0_nicolas_32.wav',\n",
              " '3_theo_35.wav',\n",
              " '8_yweweler_8.wav',\n",
              " '9_jackson_45.wav',\n",
              " '9_yweweler_22.wav',\n",
              " '5_theo_15.wav',\n",
              " '4_yweweler_28.wav',\n",
              " '5_theo_6.wav',\n",
              " '4_nicolas_10.wav',\n",
              " '7_yweweler_33.wav',\n",
              " '7_nicolas_0.wav',\n",
              " '6_nicolas_33.wav',\n",
              " '5_yweweler_10.wav',\n",
              " '0_yweweler_25.wav',\n",
              " '7_theo_7.wav',\n",
              " '2_nicolas_36.wav',\n",
              " '9_theo_37.wav',\n",
              " '7_jackson_3.wav',\n",
              " '1_jackson_45.wav',\n",
              " '0_theo_13.wav',\n",
              " '3_theo_0.wav',\n",
              " '1_nicolas_32.wav',\n",
              " '3_yweweler_45.wav',\n",
              " '0_jackson_29.wav',\n",
              " '6_yweweler_0.wav',\n",
              " '3_yweweler_30.wav',\n",
              " '1_nicolas_44.wav',\n",
              " '1_yweweler_49.wav',\n",
              " '2_theo_16.wav',\n",
              " '4_nicolas_46.wav',\n",
              " '1_yweweler_4.wav',\n",
              " '8_jackson_27.wav',\n",
              " '2_theo_30.wav',\n",
              " '4_jackson_24.wav',\n",
              " '5_jackson_17.wav',\n",
              " '7_yweweler_6.wav',\n",
              " '7_nicolas_12.wav',\n",
              " '7_nicolas_35.wav',\n",
              " '5_theo_27.wav',\n",
              " '6_yweweler_40.wav',\n",
              " '4_theo_18.wav',\n",
              " '7_jackson_32.wav',\n",
              " '2_nicolas_38.wav',\n",
              " '6_theo_2.wav',\n",
              " '3_jackson_34.wav',\n",
              " '0_yweweler_5.wav',\n",
              " '3_nicolas_5.wav',\n",
              " '7_yweweler_47.wav',\n",
              " '6_yweweler_4.wav',\n",
              " '4_nicolas_48.wav',\n",
              " '9_nicolas_37.wav',\n",
              " '0_nicolas_6.wav',\n",
              " '5_nicolas_11.wav',\n",
              " '5_theo_43.wav',\n",
              " '6_theo_37.wav',\n",
              " '8_theo_26.wav',\n",
              " '8_yweweler_3.wav',\n",
              " '4_jackson_10.wav',\n",
              " '7_theo_47.wav',\n",
              " '8_nicolas_17.wav',\n",
              " '6_jackson_37.wav',\n",
              " '7_yweweler_32.wav',\n",
              " '8_nicolas_40.wav',\n",
              " '2_theo_28.wav',\n",
              " '1_theo_11.wav',\n",
              " '1_nicolas_1.wav',\n",
              " '3_theo_13.wav',\n",
              " '7_nicolas_21.wav',\n",
              " '6_yweweler_46.wav',\n",
              " '8_yweweler_29.wav',\n",
              " '9_yweweler_47.wav',\n",
              " '1_jackson_10.wav',\n",
              " '4_yweweler_31.wav',\n",
              " '0_theo_0.wav',\n",
              " '1_nicolas_27.wav',\n",
              " '0_nicolas_14.wav',\n",
              " '1_nicolas_21.wav',\n",
              " '0_jackson_34.wav',\n",
              " '9_theo_26.wav',\n",
              " '6_yweweler_6.wav',\n",
              " '5_yweweler_26.wav',\n",
              " '8_theo_34.wav',\n",
              " '8_nicolas_33.wav',\n",
              " '5_yweweler_5.wav',\n",
              " '8_yweweler_47.wav',\n",
              " '7_nicolas_7.wav',\n",
              " '9_jackson_37.wav',\n",
              " '2_nicolas_35.wav',\n",
              " '5_jackson_19.wav',\n",
              " '4_jackson_23.wav',\n",
              " '5_nicolas_36.wav',\n",
              " '3_jackson_13.wav',\n",
              " '1_nicolas_12.wav',\n",
              " '9_yweweler_49.wav',\n",
              " '7_theo_32.wav',\n",
              " '0_jackson_26.wav',\n",
              " '6_jackson_12.wav',\n",
              " '2_yweweler_36.wav',\n",
              " '5_jackson_3.wav',\n",
              " '2_jackson_8.wav',\n",
              " '9_nicolas_0.wav',\n",
              " '1_yweweler_3.wav',\n",
              " '0_jackson_39.wav',\n",
              " '5_yweweler_16.wav',\n",
              " '6_theo_19.wav',\n",
              " '7_jackson_22.wav',\n",
              " '9_theo_34.wav',\n",
              " '5_yweweler_0.wav',\n",
              " '4_jackson_13.wav',\n",
              " '1_yweweler_5.wav',\n",
              " '6_nicolas_44.wav',\n",
              " '5_theo_46.wav',\n",
              " '9_yweweler_42.wav',\n",
              " '3_nicolas_26.wav',\n",
              " '9_theo_49.wav',\n",
              " '3_jackson_25.wav',\n",
              " '1_jackson_46.wav',\n",
              " '4_nicolas_22.wav',\n",
              " '7_yweweler_10.wav',\n",
              " '6_nicolas_7.wav',\n",
              " '4_nicolas_13.wav',\n",
              " '2_theo_27.wav',\n",
              " '5_theo_21.wav',\n",
              " '5_theo_29.wav',\n",
              " '7_nicolas_48.wav',\n",
              " '4_jackson_44.wav',\n",
              " '2_yweweler_25.wav',\n",
              " '1_nicolas_39.wav',\n",
              " '5_yweweler_45.wav',\n",
              " '6_yweweler_42.wav',\n",
              " '3_nicolas_28.wav',\n",
              " '8_theo_20.wav',\n",
              " '6_nicolas_24.wav',\n",
              " '2_jackson_2.wav',\n",
              " '0_theo_49.wav',\n",
              " '9_theo_14.wav',\n",
              " '4_jackson_27.wav',\n",
              " '1_jackson_33.wav',\n",
              " '0_theo_9.wav',\n",
              " '0_yweweler_7.wav',\n",
              " '1_yweweler_35.wav',\n",
              " '7_theo_41.wav',\n",
              " '4_yweweler_13.wav',\n",
              " '3_yweweler_37.wav',\n",
              " '8_jackson_19.wav',\n",
              " '3_jackson_38.wav',\n",
              " '8_nicolas_9.wav',\n",
              " '1_theo_14.wav',\n",
              " '9_jackson_49.wav',\n",
              " '0_jackson_11.wav',\n",
              " '8_nicolas_5.wav',\n",
              " '8_nicolas_7.wav',\n",
              " '7_theo_19.wav',\n",
              " '3_theo_27.wav',\n",
              " '6_jackson_26.wav',\n",
              " '2_jackson_35.wav',\n",
              " '0_theo_6.wav',\n",
              " '4_jackson_38.wav',\n",
              " '5_yweweler_6.wav',\n",
              " '6_nicolas_28.wav',\n",
              " '5_theo_32.wav',\n",
              " '3_nicolas_30.wav',\n",
              " '4_nicolas_28.wav',\n",
              " '3_yweweler_20.wav',\n",
              " '2_yweweler_27.wav',\n",
              " '8_nicolas_46.wav',\n",
              " '0_theo_20.wav',\n",
              " '3_jackson_8.wav',\n",
              " '1_yweweler_2.wav',\n",
              " '4_jackson_34.wav',\n",
              " '9_yweweler_14.wav',\n",
              " '0_nicolas_0.wav',\n",
              " '6_jackson_47.wav',\n",
              " '3_yweweler_19.wav',\n",
              " '8_jackson_33.wav',\n",
              " '8_yweweler_42.wav',\n",
              " '6_nicolas_8.wav',\n",
              " '2_yweweler_7.wav',\n",
              " '2_yweweler_13.wav',\n",
              " '7_yweweler_35.wav',\n",
              " '9_theo_7.wav',\n",
              " '7_jackson_25.wav',\n",
              " '5_yweweler_13.wav',\n",
              " '5_theo_38.wav',\n",
              " '3_jackson_31.wav',\n",
              " '3_nicolas_13.wav',\n",
              " '6_jackson_46.wav',\n",
              " '0_jackson_16.wav',\n",
              " '8_nicolas_31.wav',\n",
              " '8_yweweler_5.wav',\n",
              " '7_yweweler_34.wav',\n",
              " '1_jackson_4.wav',\n",
              " '9_jackson_1.wav',\n",
              " '0_jackson_41.wav',\n",
              " '8_theo_40.wav',\n",
              " '6_nicolas_42.wav',\n",
              " '0_jackson_10.wav',\n",
              " '4_nicolas_0.wav',\n",
              " '4_theo_4.wav',\n",
              " '9_theo_47.wav',\n",
              " '5_yweweler_23.wav',\n",
              " '3_nicolas_1.wav',\n",
              " '0_jackson_43.wav',\n",
              " '7_yweweler_46.wav',\n",
              " '1_jackson_27.wav',\n",
              " '1_nicolas_42.wav',\n",
              " '2_theo_37.wav',\n",
              " '2_nicolas_9.wav',\n",
              " '0_yweweler_49.wav',\n",
              " '4_nicolas_47.wav',\n",
              " '0_theo_8.wav',\n",
              " '7_yweweler_30.wav',\n",
              " '5_yweweler_7.wav',\n",
              " '0_yweweler_9.wav',\n",
              " '7_theo_8.wav',\n",
              " '5_theo_42.wav',\n",
              " '4_yweweler_9.wav',\n",
              " '2_theo_44.wav',\n",
              " '3_yweweler_16.wav',\n",
              " '3_jackson_47.wav',\n",
              " '9_theo_10.wav',\n",
              " '1_nicolas_40.wav',\n",
              " '2_nicolas_27.wav',\n",
              " '0_nicolas_30.wav',\n",
              " '3_yweweler_2.wav',\n",
              " '2_theo_11.wav',\n",
              " '5_yweweler_21.wav',\n",
              " '4_nicolas_23.wav',\n",
              " '8_theo_47.wav',\n",
              " '0_theo_7.wav',\n",
              " '6_jackson_14.wav',\n",
              " '3_theo_28.wav',\n",
              " '0_nicolas_3.wav',\n",
              " '8_jackson_49.wav',\n",
              " '1_jackson_7.wav',\n",
              " '9_theo_15.wav',\n",
              " '0_yweweler_26.wav',\n",
              " '5_jackson_13.wav',\n",
              " '4_theo_22.wav',\n",
              " '7_yweweler_0.wav',\n",
              " '7_jackson_18.wav',\n",
              " '4_jackson_2.wav',\n",
              " '7_nicolas_15.wav',\n",
              " '6_jackson_8.wav',\n",
              " '1_nicolas_17.wav',\n",
              " '4_yweweler_3.wav',\n",
              " '5_yweweler_46.wav',\n",
              " '3_nicolas_29.wav',\n",
              " '8_yweweler_0.wav',\n",
              " '8_jackson_9.wav',\n",
              " '1_jackson_17.wav',\n",
              " '3_jackson_4.wav',\n",
              " '3_yweweler_9.wav',\n",
              " '1_theo_4.wav',\n",
              " '6_yweweler_49.wav',\n",
              " '4_nicolas_18.wav',\n",
              " '1_jackson_22.wav',\n",
              " '4_theo_19.wav',\n",
              " '8_nicolas_30.wav',\n",
              " '9_jackson_30.wav',\n",
              " '5_theo_30.wav',\n",
              " '4_theo_45.wav',\n",
              " '7_yweweler_11.wav',\n",
              " '7_jackson_11.wav',\n",
              " '4_nicolas_17.wav',\n",
              " '5_yweweler_25.wav',\n",
              " '7_jackson_9.wav',\n",
              " '7_nicolas_14.wav',\n",
              " '2_nicolas_33.wav',\n",
              " '0_nicolas_31.wav',\n",
              " '0_theo_26.wav',\n",
              " '6_yweweler_33.wav',\n",
              " '4_yweweler_27.wav',\n",
              " '0_yweweler_46.wav',\n",
              " '8_yweweler_37.wav',\n",
              " '5_nicolas_13.wav',\n",
              " '2_theo_34.wav',\n",
              " '4_nicolas_4.wav',\n",
              " '2_theo_5.wav',\n",
              " '0_theo_28.wav',\n",
              " '2_yweweler_24.wav',\n",
              " '5_nicolas_16.wav',\n",
              " '6_jackson_48.wav',\n",
              " '3_nicolas_41.wav',\n",
              " '1_yweweler_44.wav',\n",
              " '8_yweweler_1.wav',\n",
              " '4_theo_1.wav',\n",
              " '5_theo_7.wav',\n",
              " '6_nicolas_3.wav',\n",
              " '4_yweweler_14.wav',\n",
              " '8_jackson_23.wav',\n",
              " '1_jackson_41.wav',\n",
              " '0_jackson_6.wav',\n",
              " '9_theo_44.wav',\n",
              " '4_yweweler_18.wav',\n",
              " '5_jackson_42.wav',\n",
              " '2_theo_22.wav',\n",
              " '7_nicolas_40.wav',\n",
              " '4_theo_0.wav',\n",
              " '5_yweweler_3.wav',\n",
              " '9_jackson_17.wav',\n",
              " '2_theo_9.wav',\n",
              " '0_yweweler_19.wav',\n",
              " '0_theo_36.wav',\n",
              " '2_yweweler_0.wav',\n",
              " '0_yweweler_15.wav',\n",
              " '3_jackson_15.wav',\n",
              " '9_jackson_26.wav',\n",
              " '5_jackson_43.wav',\n",
              " '6_yweweler_15.wav',\n",
              " '0_yweweler_22.wav',\n",
              " '3_theo_22.wav',\n",
              " '2_yweweler_33.wav',\n",
              " '8_jackson_3.wav',\n",
              " '3_jackson_36.wav',\n",
              " '1_nicolas_48.wav',\n",
              " '6_nicolas_46.wav',\n",
              " '0_theo_33.wav',\n",
              " '9_nicolas_27.wav',\n",
              " '5_jackson_4.wav',\n",
              " '3_jackson_35.wav',\n",
              " '7_yweweler_13.wav',\n",
              " '0_nicolas_48.wav',\n",
              " '4_jackson_5.wav',\n",
              " '3_theo_5.wav',\n",
              " '7_nicolas_5.wav',\n",
              " '2_theo_23.wav',\n",
              " '6_nicolas_45.wav',\n",
              " '2_jackson_9.wav',\n",
              " '7_theo_46.wav',\n",
              " '3_nicolas_7.wav',\n",
              " '0_jackson_17.wav',\n",
              " '0_yweweler_37.wav',\n",
              " '4_theo_2.wav',\n",
              " '6_yweweler_43.wav',\n",
              " '6_nicolas_37.wav',\n",
              " '1_jackson_0.wav',\n",
              " '5_jackson_24.wav',\n",
              " '7_theo_16.wav',\n",
              " '4_jackson_42.wav',\n",
              " '3_nicolas_6.wav',\n",
              " '5_nicolas_40.wav',\n",
              " '6_theo_13.wav',\n",
              " '6_theo_38.wav',\n",
              " '1_theo_38.wav',\n",
              " '2_theo_36.wav',\n",
              " '4_yweweler_38.wav',\n",
              " '5_nicolas_17.wav',\n",
              " '0_theo_4.wav',\n",
              " '3_nicolas_17.wav',\n",
              " '0_yweweler_2.wav',\n",
              " '3_nicolas_44.wav',\n",
              " '6_yweweler_41.wav',\n",
              " '2_nicolas_18.wav',\n",
              " '6_jackson_31.wav',\n",
              " '7_yweweler_39.wav',\n",
              " '4_jackson_47.wav',\n",
              " '1_nicolas_14.wav',\n",
              " '9_yweweler_0.wav',\n",
              " '3_yweweler_17.wav',\n",
              " '3_theo_32.wav',\n",
              " '9_theo_48.wav',\n",
              " '4_yweweler_2.wav',\n",
              " '7_yweweler_4.wav',\n",
              " '4_nicolas_7.wav',\n",
              " '0_jackson_25.wav',\n",
              " '2_theo_25.wav',\n",
              " '8_jackson_40.wav',\n",
              " '3_theo_24.wav',\n",
              " '9_nicolas_19.wav',\n",
              " '3_theo_16.wav',\n",
              " '9_theo_12.wav',\n",
              " '9_theo_40.wav',\n",
              " '5_nicolas_2.wav',\n",
              " '9_theo_22.wav',\n",
              " '0_jackson_45.wav',\n",
              " '2_jackson_48.wav',\n",
              " '0_theo_39.wav',\n",
              " '2_theo_15.wav',\n",
              " '9_theo_1.wav',\n",
              " '2_yweweler_34.wav',\n",
              " '9_jackson_44.wav',\n",
              " '8_yweweler_22.wav',\n",
              " '7_theo_48.wav',\n",
              " '3_jackson_17.wav',\n",
              " '3_yweweler_49.wav',\n",
              " '0_jackson_1.wav',\n",
              " '9_theo_41.wav',\n",
              " '9_nicolas_12.wav',\n",
              " '3_yweweler_11.wav',\n",
              " '1_theo_42.wav',\n",
              " '2_jackson_7.wav',\n",
              " '8_jackson_45.wav',\n",
              " '8_theo_42.wav',\n",
              " '7_jackson_1.wav',\n",
              " '6_theo_41.wav',\n",
              " '2_nicolas_39.wav',\n",
              " '5_nicolas_27.wav',\n",
              " '1_nicolas_38.wav',\n",
              " '1_yweweler_23.wav',\n",
              " '2_jackson_0.wav',\n",
              " '8_jackson_42.wav',\n",
              " '1_theo_29.wav',\n",
              " '0_theo_22.wav',\n",
              " '5_theo_49.wav',\n",
              " '0_jackson_24.wav',\n",
              " '7_nicolas_22.wav',\n",
              " '2_nicolas_19.wav',\n",
              " '6_nicolas_16.wav',\n",
              " '6_nicolas_19.wav',\n",
              " '4_theo_42.wav',\n",
              " '9_theo_24.wav',\n",
              " '8_jackson_5.wav',\n",
              " '6_yweweler_39.wav',\n",
              " '0_theo_12.wav',\n",
              " '9_nicolas_48.wav',\n",
              " '0_theo_46.wav',\n",
              " '1_jackson_49.wav',\n",
              " '8_jackson_11.wav',\n",
              " '6_nicolas_39.wav',\n",
              " '3_nicolas_43.wav',\n",
              " '8_yweweler_44.wav',\n",
              " '1_yweweler_41.wav',\n",
              " '1_jackson_39.wav',\n",
              " '1_theo_27.wav',\n",
              " '9_theo_17.wav',\n",
              " '6_jackson_13.wav',\n",
              " '4_yweweler_30.wav',\n",
              " '4_theo_21.wav',\n",
              " '8_nicolas_14.wav',\n",
              " '9_nicolas_20.wav',\n",
              " '4_yweweler_42.wav',\n",
              " '3_jackson_49.wav',\n",
              " '3_jackson_29.wav',\n",
              " '0_nicolas_37.wav',\n",
              " '3_nicolas_49.wav',\n",
              " '6_jackson_6.wav',\n",
              " '7_yweweler_27.wav',\n",
              " '2_theo_47.wav',\n",
              " '8_nicolas_22.wav',\n",
              " '6_yweweler_36.wav',\n",
              " '8_nicolas_45.wav',\n",
              " '3_theo_39.wav',\n",
              " '7_nicolas_31.wav',\n",
              " '7_yweweler_12.wav',\n",
              " '2_jackson_11.wav',\n",
              " '5_jackson_36.wav',\n",
              " '1_jackson_1.wav',\n",
              " '0_nicolas_41.wav',\n",
              " '7_jackson_30.wav',\n",
              " '2_nicolas_32.wav',\n",
              " '2_theo_14.wav',\n",
              " ...]"
            ]
          },
          "metadata": {
            "tags": []
          },
          "execution_count": 8
        }
      ]
    },
    {
      "cell_type": "markdown",
      "metadata": {
        "id": "8NYYpfqoaNmv"
      },
      "source": [
        "<font size=4>Grader function 1 </font>"
      ]
    },
    {
      "cell_type": "code",
      "metadata": {
        "id": "2oJSOmYBaNmx",
        "outputId": "989020bb-d07c-4374-d7f3-44d75b49f400",
        "colab": {
          "base_uri": "https://localhost:8080/",
          "height": 34
        }
      },
      "source": [
        "def grader_files():\n",
        "    temp = len(all_files)==2000\n",
        "    temp1 = all([x[-3:]==\"wav\" for x in all_files])\n",
        "    temp = temp and temp1\n",
        "    return temp\n",
        "grader_files()"
      ],
      "execution_count": null,
      "outputs": [
        {
          "output_type": "execute_result",
          "data": {
            "text/plain": [
              "True"
            ]
          },
          "metadata": {
            "tags": []
          },
          "execution_count": 9
        }
      ]
    },
    {
      "cell_type": "markdown",
      "metadata": {
        "id": "MhvSIN6raNm3"
      },
      "source": [
        "Create a dataframe(name=df_audio) with two columns(path, label).   \n",
        "You can get the label from the first letter of name.  \n",
        "Eg: 0_jackson_0 --> 0  \n",
        "0_jackson_43 --> 0"
      ]
    },
    {
      "cell_type": "code",
      "metadata": {
        "id": "fWP6vXBeaNm3"
      },
      "source": [
        "#Create a dataframe(name=df_audio) with two columns(path, label).   \n",
        "#You can get the label from the first letter of name.  \n",
        "#Eg: 0_jackson_0 --> 0  \n",
        "#0_jackson_43 --> 0\n",
        "label = [i[0] for i in all_files]\n",
        "all_files = ['/content/drive/My Drive/recordings/'+i for i in all_files]"
      ],
      "execution_count": null,
      "outputs": []
    },
    {
      "cell_type": "code",
      "metadata": {
        "id": "Qalvo7rlpSqU"
      },
      "source": [
        "df_audio = pd.DataFrame()\n",
        "df_audio['path'] = all_files\n",
        "df_audio['label'] = label"
      ],
      "execution_count": null,
      "outputs": []
    },
    {
      "cell_type": "code",
      "metadata": {
        "id": "5ZpuaGuJaNm8",
        "outputId": "c4286103-f6bc-4817-e378-7a072d1b1cf4",
        "colab": {
          "base_uri": "https://localhost:8080/",
          "height": 176
        }
      },
      "source": [
        "#info\n",
        "df_audio.info()"
      ],
      "execution_count": null,
      "outputs": [
        {
          "output_type": "stream",
          "text": [
            "<class 'pandas.core.frame.DataFrame'>\n",
            "RangeIndex: 2000 entries, 0 to 1999\n",
            "Data columns (total 2 columns):\n",
            " #   Column  Non-Null Count  Dtype \n",
            "---  ------  --------------  ----- \n",
            " 0   path    2000 non-null   object\n",
            " 1   label   2000 non-null   object\n",
            "dtypes: object(2)\n",
            "memory usage: 31.4+ KB\n"
          ],
          "name": "stdout"
        }
      ]
    },
    {
      "cell_type": "markdown",
      "metadata": {
        "id": "VOKpYJ_LaNnD"
      },
      "source": [
        "<font size=4>Grader function 2 </font>"
      ]
    },
    {
      "cell_type": "code",
      "metadata": {
        "id": "7Q8r_T8-aNnE",
        "outputId": "1b0dbaf0-f8b9-4856-aa18-9f266c227709",
        "colab": {
          "base_uri": "https://localhost:8080/",
          "height": 34
        }
      },
      "source": [
        "def grader_df():\n",
        "    flag_shape = df_audio.shape==(2000,2)\n",
        "    flag_columns = all(df_audio.columns==['path', 'label'])\n",
        "    list_values = list(df_audio.label.value_counts())\n",
        "    flag_label = len(list_values)==10\n",
        "    flag_label2 = all([i==200 for i in list_values])\n",
        "    final_flag = flag_shape and flag_columns and flag_label and flag_label2\n",
        "    return final_flag\n",
        "grader_df()"
      ],
      "execution_count": null,
      "outputs": [
        {
          "output_type": "execute_result",
          "data": {
            "text/plain": [
              "True"
            ]
          },
          "metadata": {
            "tags": []
          },
          "execution_count": 15
        }
      ]
    },
    {
      "cell_type": "code",
      "metadata": {
        "id": "PlfssCc3aNnL"
      },
      "source": [
        "from sklearn.utils import shuffle\n",
        "df_audio = shuffle(df_audio, random_state=33)#don't change the random state"
      ],
      "execution_count": null,
      "outputs": []
    },
    {
      "cell_type": "markdown",
      "metadata": {
        "id": "PZ448aENaNnR"
      },
      "source": [
        "<pre><font size=4>Train and Validation split</font></pre>"
      ]
    },
    {
      "cell_type": "code",
      "metadata": {
        "id": "vSPy-Ln6aNnS"
      },
      "source": [
        "#split the data into train and validation and save in X_train, X_test, y_train, y_test\n",
        "#use stratify sampling\n",
        "#use random state of 45\n",
        "#use test size of 30%\n",
        "X=df_audio['path']; y = df_audio['label']\n",
        "from sklearn.model_selection import train_test_split\n",
        "X_train, X_test, y_train,y_test = train_test_split(X,y, stratify = y, random_state = 45, test_size=0.30)"
      ],
      "execution_count": null,
      "outputs": []
    },
    {
      "cell_type": "markdown",
      "metadata": {
        "id": "YPK3sbzUaNnW"
      },
      "source": [
        "<font size=4>Grader function 3 </font>"
      ]
    },
    {
      "cell_type": "code",
      "metadata": {
        "id": "chZzntKUaNnX",
        "outputId": "b38bc7dc-5c64-4e60-c3ee-cb86a2f91576",
        "colab": {
          "base_uri": "https://localhost:8080/",
          "height": 34
        }
      },
      "source": [
        "def grader_split():\n",
        "    flag_len = (len(X_train)==1400) and (len(X_test)==600) and (len(y_train)==1400) and (len(y_test)==600)\n",
        "    values_ytrain = list(y_train.value_counts())\n",
        "    flag_ytrain = (len(values_ytrain)==10) and (all([i==140 for i in values_ytrain]))\n",
        "    values_ytest = list(y_test.value_counts())\n",
        "    flag_ytest = (len(values_ytest)==10) and (all([i==60 for i in values_ytest]))\n",
        "    final_flag = flag_len and flag_ytrain and flag_ytest\n",
        "    return final_flag\n",
        "grader_split()"
      ],
      "execution_count": null,
      "outputs": [
        {
          "output_type": "execute_result",
          "data": {
            "text/plain": [
              "True"
            ]
          },
          "metadata": {
            "tags": []
          },
          "execution_count": 18
        }
      ]
    },
    {
      "cell_type": "markdown",
      "metadata": {
        "id": "LGhh-39vaNnb"
      },
      "source": [
        "<pre><font size=4>Preprocessing</font>\n",
        "\n",
        "All files are in the \"WAV\" format. We will read those raw data files using the librosa</pre>"
      ]
    },
    {
      "cell_type": "code",
      "metadata": {
        "id": "i99JacQSaNnc"
      },
      "source": [
        "sample_rate = 22050\n",
        "def load_wav(x, get_duration=True):\n",
        "    '''This return the array values of audio with sampling rate of 22050 and Duration'''\n",
        "    #loading the wav file with sampling rate of 22050\n",
        "    samples, sample_rate = librosa.load(x, sr=22050)\n",
        "    if get_duration:\n",
        "        duration = librosa.get_duration(samples, sample_rate)\n",
        "        return [samples, duration]\n",
        "    else:\n",
        "        return samples"
      ],
      "execution_count": null,
      "outputs": []
    },
    {
      "cell_type": "code",
      "metadata": {
        "id": "Rx97f8GGaNnh",
        "outputId": "93b51e61-c260-4f0e-8371-32e71ca8f997",
        "colab": {
          "base_uri": "https://localhost:8080/",
          "height": 52
        }
      },
      "source": [
        "#use load_wav function that was written above to get every wave. \n",
        "#save it in X_train_processed and X_test_processed\n",
        "# X_train_processed/X_test_processed should be dataframes with two columns(raw_data, duration) with same index of X_train/y_train\n",
        "from tqdm import tqdm \n",
        "X_train_processed = [load_wav(i) for i in tqdm(X_train)]\n",
        "X_test_processed = [load_wav(i) for i in tqdm(X_test)]"
      ],
      "execution_count": null,
      "outputs": [
        {
          "output_type": "stream",
          "text": [
            "100%|██████████| 1400/1400 [11:53<00:00,  1.96it/s]\n",
            "100%|██████████| 600/600 [05:37<00:00,  1.78it/s]\n"
          ],
          "name": "stderr"
        }
      ]
    },
    {
      "cell_type": "code",
      "metadata": {
        "id": "sxHbSQcatxnv"
      },
      "source": [
        "import pickle\n",
        "with open('/content/drive/My Drive/recordings/X_train_processed.pkl','wb') as f:\n",
        "  pickle.dump(X_train_processed,f)\n",
        "with open('/content/drive/My Drive/recordings/X_test_processed.pkl','wb') as f:\n",
        "  pickle.dump(X_test_processed,f)\n",
        "with open('/content/drive/My Drive/recordings/X_train.pkl','wb') as f:\n",
        "  pickle.dump(X_train,f)\n",
        "with open('/content/drive/My Drive/recordings/X_test.pkl','wb') as f:\n",
        "  pickle.dump(X_test,f)\n",
        "with open('/content/drive/My Drive/recordings/y_train.pkl','wb') as f:\n",
        "  pickle.dump(y_train,f)\n",
        "with open('/content/drive/My Drive/recordings/y_test.pkl','wb') as f:\n",
        "  pickle.dump(y_test,f)\n",
        "with open('/content/drive/My Drive/recordings/all_files.pkl','wb') as f:\n",
        "  pickle.dump(all_files,f)\n",
        "with open('/content/drive/My Drive/recordings/label.pkl','wb') as f:\n",
        "  pickle.dump(label,f)\n",
        "with open('/content/drive/My Drive/recordings/X.pkl','wb') as f:\n",
        "  pickle.dump(X,f)\n",
        "with open('/content/drive/My Drive/recordings/y.pkl','wb') as f:\n",
        "  pickle.dump(y,f)"
      ],
      "execution_count": null,
      "outputs": []
    },
    {
      "cell_type": "code",
      "metadata": {
        "id": "LRGG2sXh_V_T"
      },
      "source": [
        "import pickle\n",
        "with open('/content/drive/My Drive/recordings/X_train_processed.pkl','rb') as f:\n",
        "  X_train_processed=pickle.load(f)\n",
        "with open('/content/drive/My Drive/recordings/X_test_processed.pkl','rb') as f:\n",
        "  X_test_processed=pickle.load(f)\n",
        "with open('/content/drive/My Drive/recordings/X_train.pkl','rb') as f:\n",
        "  X_train=pickle.load(f)\n",
        "with open('/content/drive/My Drive/recordings/X_test.pkl','rb') as f:\n",
        "  X_test=pickle.load(f)\n",
        "with open('/content/drive/My Drive/recordings/y_train.pkl','rb') as f:\n",
        "  y_train=pickle.load(f)\n",
        "with open('/content/drive/My Drive/recordings/y_test.pkl','rb') as f:\n",
        "  y_test=pickle.load(f)\n",
        "with open('/content/drive/My Drive/recordings/all_files.pkl','rb') as f:\n",
        "  all_files=pickle.load(f)\n",
        "with open('/content/drive/My Drive/recordings/label.pkl','rb') as f:\n",
        "  label=pickle.load(f)\n",
        "with open('/content/drive/My Drive/recordings/X.pkl','rb') as f:\n",
        "  X=pickle.load(f)\n",
        "with open('/content/drive/My Drive/recordings/y.pkl','rb') as f:\n",
        "  y=pickle.load(f)"
      ],
      "execution_count": 3,
      "outputs": []
    },
    {
      "cell_type": "code",
      "metadata": {
        "id": "djOvu4UmAQ7K"
      },
      "source": [
        "X_train_vals = X_train_processed\n",
        "X_test_vals=X_test_processed\n",
        "X_train_processed=pd.DataFrame()\n",
        "X_train_processed['raw_data'] =[X_train_vals[i][0] for i in range(len(X_train_vals))]\n",
        "X_train_processed['duration'] =[X_train_vals[i][1] for i in range(len(X_train_vals))]\n",
        "X_test_processed=pd.DataFrame()\n",
        "X_test_processed['raw_data'] = [X_test_vals[i][0] for i in range(len(X_test_vals))]\n",
        "X_test_processed['duration'] = [X_test_vals[i][1] for i in range(len(X_test_vals))]"
      ],
      "execution_count": 4,
      "outputs": []
    },
    {
      "cell_type": "code",
      "metadata": {
        "id": "fW90OCE_yTzl"
      },
      "source": [
        "#X_train_processed = X_train_processed.reindex_like(pd.DataFrame(X_train))\n",
        "#X_test_processed =  X_train_processed.reindex_like(pd.DataFrame(X_test))"
      ],
      "execution_count": null,
      "outputs": []
    },
    {
      "cell_type": "code",
      "metadata": {
        "id": "HAh5k7HzyrDs",
        "outputId": "5ea8f7fa-587c-4754-a76d-70c33e05aa62",
        "colab": {
          "base_uri": "https://localhost:8080/",
          "height": 197
        }
      },
      "source": [
        "X_train_processed.head()"
      ],
      "execution_count": 5,
      "outputs": [
        {
          "output_type": "execute_result",
          "data": {
            "text/html": [
              "<div>\n",
              "<style scoped>\n",
              "    .dataframe tbody tr th:only-of-type {\n",
              "        vertical-align: middle;\n",
              "    }\n",
              "\n",
              "    .dataframe tbody tr th {\n",
              "        vertical-align: top;\n",
              "    }\n",
              "\n",
              "    .dataframe thead th {\n",
              "        text-align: right;\n",
              "    }\n",
              "</style>\n",
              "<table border=\"1\" class=\"dataframe\">\n",
              "  <thead>\n",
              "    <tr style=\"text-align: right;\">\n",
              "      <th></th>\n",
              "      <th>raw_data</th>\n",
              "      <th>duration</th>\n",
              "    </tr>\n",
              "  </thead>\n",
              "  <tbody>\n",
              "    <tr>\n",
              "      <th>0</th>\n",
              "      <td>[0.00031743426, 0.0005046424, 0.00026486837, -...</td>\n",
              "      <td>0.292789</td>\n",
              "    </tr>\n",
              "    <tr>\n",
              "      <th>1</th>\n",
              "      <td>[7.52339e-05, 0.0001356962, 0.00018862588, 0.0...</td>\n",
              "      <td>0.280635</td>\n",
              "    </tr>\n",
              "    <tr>\n",
              "      <th>2</th>\n",
              "      <td>[-0.0012102715, -0.0076377015, -0.012906657, -...</td>\n",
              "      <td>0.266757</td>\n",
              "    </tr>\n",
              "    <tr>\n",
              "      <th>3</th>\n",
              "      <td>[-0.00058412284, -0.000517757, -0.00036712666,...</td>\n",
              "      <td>0.283401</td>\n",
              "    </tr>\n",
              "    <tr>\n",
              "      <th>4</th>\n",
              "      <td>[0.010563009, 0.012773626, 0.013365835, 0.0131...</td>\n",
              "      <td>0.688753</td>\n",
              "    </tr>\n",
              "  </tbody>\n",
              "</table>\n",
              "</div>"
            ],
            "text/plain": [
              "                                            raw_data  duration\n",
              "0  [0.00031743426, 0.0005046424, 0.00026486837, -...  0.292789\n",
              "1  [7.52339e-05, 0.0001356962, 0.00018862588, 0.0...  0.280635\n",
              "2  [-0.0012102715, -0.0076377015, -0.012906657, -...  0.266757\n",
              "3  [-0.00058412284, -0.000517757, -0.00036712666,...  0.283401\n",
              "4  [0.010563009, 0.012773626, 0.013365835, 0.0131...  0.688753"
            ]
          },
          "metadata": {
            "tags": []
          },
          "execution_count": 5
        }
      ]
    },
    {
      "cell_type": "code",
      "metadata": {
        "id": "DKkv3_EBwHVP",
        "outputId": "a0fa595a-0a79-4011-febb-fd2be4b2c352",
        "colab": {
          "base_uri": "https://localhost:8080/",
          "height": 357
        }
      },
      "source": [
        "import matplotlib.pyplot as plt\n",
        "plt.hist(X_train_processed['duration'])"
      ],
      "execution_count": null,
      "outputs": [
        {
          "output_type": "execute_result",
          "data": {
            "text/plain": [
              "(array([495., 764., 122.,  17.,   1.,   0.,   0.,   0.,   0.,   1.]),\n",
              " array([0.14353741, 0.34877551, 0.55401361, 0.7592517 , 0.9644898 ,\n",
              "        1.16972789, 1.37496599, 1.58020408, 1.78544218, 1.99068027,\n",
              "        2.19591837]),\n",
              " <a list of 10 Patch objects>)"
            ]
          },
          "metadata": {
            "tags": []
          },
          "execution_count": 14
        },
        {
          "output_type": "display_data",
          "data": {
            "image/png": "[encoded data removed]",
            "text/plain": [
              "<Figure size 432x288 with 1 Axes>"
            ]
          },
          "metadata": {
            "tags": [],
            "needs_background": "light"
          }
        }
      ]
    },
    {
      "cell_type": "code",
      "metadata": {
        "id": "duQZPQevaNno",
        "outputId": "05986007-6321-4b26-99f6-2197b1811a24"
      },
      "source": [
        "#plot the histogram of the duration for train\n"
      ],
      "execution_count": null,
      "outputs": [
        {
          "output_type": "execute_result",
          "data": {
            "text/plain": [
              "[]"
            ]
          },
          "metadata": {
            "tags": []
          },
          "execution_count": 14
        },
        {
          "output_type": "display_data",
          "data": {
            "image/png": "[encoded data removed]",
            "text/plain": [
              "<Figure size 432x288 with 1 Axes>"
            ]
          },
          "metadata": {
            "tags": [],
            "needs_background": "light"
          }
        }
      ]
    },
    {
      "cell_type": "code",
      "metadata": {
        "id": "QxhUYCL3u636",
        "outputId": "154a2845-f10b-495f-dff4-825776562ad7",
        "colab": {
          "base_uri": "https://localhost:8080/",
          "height": 355
        }
      },
      "source": [
        "plt.hist(X_test_processed['duration'])"
      ],
      "execution_count": null,
      "outputs": [
        {
          "output_type": "execute_result",
          "data": {
            "text/plain": [
              "(array([263., 289.,  41.,   5.,   1.,   0.,   0.,   0.,   0.,   1.]),\n",
              " array([0.15741497, 0.36995011, 0.58248526, 0.79502041, 1.00755556,\n",
              "        1.2200907 , 1.43262585, 1.645161  , 1.85769615, 2.07023129,\n",
              "        2.28276644]),\n",
              " <a list of 10 Patch objects>)"
            ]
          },
          "metadata": {
            "tags": []
          },
          "execution_count": 15
        },
        {
          "output_type": "display_data",
          "data": {
            "image/png": "[encoded data removed]",
            "text/plain": [
              "<Figure size 432x288 with 1 Axes>"
            ]
          },
          "metadata": {
            "tags": [],
            "needs_background": "light"
          }
        }
      ]
    },
    {
      "cell_type": "code",
      "metadata": {
        "id": "wE5SDRzSaNns",
        "outputId": "f2501a90-2a43-43db-f02c-1463defe2146"
      },
      "source": [
        "#plot the histogram of the duration for trian\n",
        "\n"
      ],
      "execution_count": null,
      "outputs": [
        {
          "output_type": "execute_result",
          "data": {
            "text/plain": [
              "(array([224., 320.,  50.,   5.,   0.,   0.,   0.,   0.,   0.,   1.]),\n",
              " array([0.14353741, 0.35746032, 0.57138322, 0.78530612, 0.99922902,\n",
              "        1.21315193, 1.42707483, 1.64099773, 1.85492063, 2.06884354,\n",
              "        2.28276644]),\n",
              " <a list of 10 Patch objects>)"
            ]
          },
          "metadata": {
            "tags": []
          },
          "execution_count": 15
        },
        {
          "output_type": "display_data",
          "data": {
            "image/png": "[encoded data removed]",
            "text/plain": [
              "<Figure size 432x288 with 1 Axes>"
            ]
          },
          "metadata": {
            "tags": [],
            "needs_background": "light"
          }
        }
      ]
    },
    {
      "cell_type": "code",
      "metadata": {
        "id": "vvLhm1AqaNny",
        "outputId": "a4430992-0f16-4d24-de92-0a6fcec1df06"
      },
      "source": [
        "#print 0 to 100 percentile values with step size of 10 for train data duration. \n",
        "range = (np.arange(0,100,10)).tolist()\n",
        "for i in range:\n",
        "  print(i,'th percentile is: ',np.percentile(X_train_processed['duration'],i))\n"
      ],
      "execution_count": null,
      "outputs": [
        {
          "output_type": "stream",
          "text": [
            "0 th percentile is 0.16104308390022676\n",
            "10 th percentile is 0.25848072562358276\n",
            "20 th percentile is 0.2974331065759637\n",
            "30 th percentile is 0.3297777777777778\n",
            "40 th percentile is 0.3569160997732426\n",
            "50 th percentile is 0.38945578231292516\n",
            "60 th percentile is 0.41328798185941046\n",
            "70 th percentile is 0.4444671201814059\n",
            "80 th percentile is 0.4826848072562358\n",
            "90 th percentile is 0.5531655328798186\n",
            "100 th percentile is 2.195918367346939\n"
          ],
          "name": "stdout"
        }
      ]
    },
    {
      "cell_type": "code",
      "metadata": {
        "id": "6Vkjcd_vCgFy",
        "outputId": "1f2fc0d1-3081-4a47-ee02-bdb29200fdb4",
        "colab": {
          "base_uri": "https://localhost:8080/",
          "height": 212
        }
      },
      "source": [
        "#print 0 to 100 percentile values with step size of 10 for train data duration. \n",
        "range = (np.arange(0,101,10)).tolist()\n",
        "for i in range:\n",
        "  print(i,'th percentile is: ',np.percentile(X_train_processed['duration'],i))"
      ],
      "execution_count": null,
      "outputs": [
        {
          "output_type": "stream",
          "text": [
            "0 th percentile is:  0.1435374149659864\n",
            "10 th percentile is:  0.2633877551020408\n",
            "20 th percentile is:  0.30003628117913833\n",
            "30 th percentile is:  0.33224943310657595\n",
            "40 th percentile is:  0.35950113378684806\n",
            "50 th percentile is:  0.3900907029478458\n",
            "60 th percentile is:  0.4184126984126984\n",
            "70 th percentile is:  0.44769160997732427\n",
            "80 th percentile is:  0.485922902494331\n",
            "90 th percentile is:  0.5549160997732426\n",
            "100 th percentile is:  2.195918367346939\n"
          ],
          "name": "stdout"
        }
      ]
    },
    {
      "cell_type": "code",
      "metadata": {
        "id": "rSlVQh4CaNn2",
        "outputId": "d6970436-db83-4d01-c910-7ebe92baab41"
      },
      "source": [
        "##print 90 to 100 percentile values with step size of 1. \n",
        "range = (np.arange(90,100,1)).tolist()\n",
        "for i in range:\n",
        "  print(i,'th percentile is: ',np.percentile(X_train_processed['duration'],i))\n"
      ],
      "execution_count": null,
      "outputs": [
        {
          "output_type": "stream",
          "text": [
            "90 th percentile is 0.5531655328798186\n",
            "91 th percentile is 0.5669832199546486\n",
            "92 th percentile is 0.5790349206349206\n",
            "93 th percentile is 0.599510657596372\n",
            "94 th percentile is 0.611208163265306\n",
            "95 th percentile is 0.6316009070294784\n",
            "96 th percentile is 0.6431455782312925\n",
            "97 th percentile is 0.6635741496598639\n",
            "98 th percentile is 0.6957514739229022\n",
            "99 th percentile is 0.79601179138322\n",
            "100 th percentile is 2.195918367346939\n"
          ],
          "name": "stdout"
        }
      ]
    },
    {
      "cell_type": "code",
      "metadata": {
        "id": "44P1CaTnCkOn",
        "outputId": "3551e31a-2859-4654-8cf5-404983642d6e",
        "colab": {
          "base_uri": "https://localhost:8080/",
          "height": 212
        }
      },
      "source": [
        "##print 90 to 100 percentile values with step size of 1. \n",
        "range = (np.arange(90,101,1)).tolist()\n",
        "for i in range:\n",
        "  print(i,'th percentile is: ',np.percentile(X_train_processed['duration'],i))"
      ],
      "execution_count": null,
      "outputs": [
        {
          "output_type": "stream",
          "text": [
            "90 th percentile is:  0.5549160997732426\n",
            "91 th percentile is:  0.5708140589569161\n",
            "92 th percentile is:  0.5810503401360544\n",
            "93 th percentile is:  0.5997356009070297\n",
            "94 th percentile is:  0.6143074829931973\n",
            "95 th percentile is:  0.6254104308390022\n",
            "96 th percentile is:  0.6431455782312925\n",
            "97 th percentile is:  0.6647700680272108\n",
            "98 th percentile is:  0.6925750566893424\n",
            "99 th percentile is:  0.7930458049886621\n",
            "100 th percentile is:  2.195918367346939\n"
          ],
          "name": "stdout"
        }
      ]
    },
    {
      "cell_type": "markdown",
      "metadata": {
        "id": "JbMb4Y0RaNoA"
      },
      "source": [
        "<font size=4>Grader function 4 </font>"
      ]
    },
    {
      "cell_type": "code",
      "metadata": {
        "id": "UMoyLLSAaNoF",
        "outputId": "2c4a6cd6-54f6-4d51-e044-193d1e25ff9f",
        "colab": {
          "base_uri": "https://localhost:8080/",
          "height": 34
        }
      },
      "source": [
        "def grader_processed():\n",
        "    flag_columns = (all(X_train_processed.columns==['raw_data', 'duration'])) and (all(X_test_processed.columns==['raw_data', 'duration']))\n",
        "    flag_shape = (X_train_processed.shape ==(1400, 2)) and (X_test_processed.shape==(600,2))\n",
        "    return flag_columns and flag_shape\n",
        "grader_processed()"
      ],
      "execution_count": null,
      "outputs": [
        {
          "output_type": "execute_result",
          "data": {
            "text/plain": [
              "True"
            ]
          },
          "metadata": {
            "tags": []
          },
          "execution_count": 6
        }
      ]
    },
    {
      "cell_type": "markdown",
      "metadata": {
        "id": "Cux3_jfcaNoM"
      },
      "source": [
        "<pre>Based on our analysis 99 percentile values are less than 0.8sec so we will limit maximum length of X_train_processed and X_test_processed to 0.8 sec. It is similar to pad_sequence for a text dataset. \n",
        "\n",
        "While loading the audio files, we are using sampling rate of 22050 so one sec will give array of length 22050. so, our maximum length is 0.8*22050 = 17640\n",
        "\n",
        "Pad with Zero if length of sequence is less than 17640 else Truncate the number. \n",
        "\n",
        "Also create a masking vector for train and test. \n",
        "\n",
        "masking vector value = 1 if it is real value, 0 if it is pad value. Masking vector data type must be bool.\n",
        "</pre>"
      ]
    },
    {
      "cell_type": "code",
      "metadata": {
        "id": "voqSEyvcaNoO"
      },
      "source": [
        "max_length  = 17640"
      ],
      "execution_count": 6,
      "outputs": []
    },
    {
      "cell_type": "code",
      "metadata": {
        "id": "B1-_r20BaNoW"
      },
      "source": [
        "## as discussed above, Pad with Zero if length of sequence is less than 17640 else Truncate the number. \n",
        "## save in the X_train_pad_seq, X_test_pad_seq\n",
        "## also Create masking vector X_train_mask, X_test_mask\n",
        "X_train_pad_seq=[];X_train_mask=[];\n",
        "X_test_pad_seq=[];X_test_mask=[];\n",
        "## all the X_train_pad_seq, X_test_pad_seq, X_train_mask, X_test_mask will be numpy arrays mask vector dtype must be bool.\n",
        "for i in X_train_processed['raw_data']:\n",
        "    if len(i) > max_length:\n",
        "      X_train_pad_seq.append(i[0:max_length])\n",
        "      X_train_mask.append([True]*max_length)\n",
        "    else:\n",
        "      temp = len(i)\n",
        "      temp1 = [0]*(max_length-temp)\n",
        "      X_train_pad_seq.append(i.tolist()+temp1)\n",
        "      temp2 = [False]*(max_length-temp)\n",
        "      another_temp = [True]*len(i) + temp2\n",
        "      X_train_mask.append(another_temp)\n",
        "#########################################################\n",
        "for i in X_test_processed['raw_data']:\n",
        "    if len(i) > max_length:\n",
        "      X_test_pad_seq.append(i[0:max_length])\n",
        "      X_test_mask.append([True]*max_length)\n",
        "    else:\n",
        "      temp = len(i)\n",
        "      temp1 = [0]*(max_length-temp)\n",
        "      X_test_pad_seq.append(i.tolist()+temp1)\n",
        "      temp2 = [False]*(max_length-temp)\n",
        "      another_temp = [True]*len(i) + temp2\n",
        "      X_test_mask.append(another_temp)\n",
        "    \n",
        "\n"
      ],
      "execution_count": 7,
      "outputs": []
    },
    {
      "cell_type": "code",
      "metadata": {
        "id": "ZBV0NJUraMmg"
      },
      "source": [
        "X_train_pad_seq=np.asarray(X_train_pad_seq)\n",
        "X_train_mask = np.asarray(X_train_mask)\n",
        "X_test_pad_seq = np.asarray(X_test_pad_seq)\n",
        "X_test_mask = np.asarray(X_test_mask)"
      ],
      "execution_count": 8,
      "outputs": []
    },
    {
      "cell_type": "markdown",
      "metadata": {
        "id": "zEHMgm4DaNoe"
      },
      "source": [
        "<font size=4>Grader function 5 </font>"
      ]
    },
    {
      "cell_type": "code",
      "metadata": {
        "id": "Th3KhplGaNof",
        "outputId": "89bbecff-7944-432b-bc7a-a398dd106c06",
        "colab": {
          "base_uri": "https://localhost:8080/",
          "height": 34
        }
      },
      "source": [
        "def grader_padoutput():\n",
        "    flag_padshape = (X_train_pad_seq.shape==(1400, 17640)) and (X_test_pad_seq.shape==(600, 17640)) and (y_train.shape==(1400,))\n",
        "    flag_maskshape = (X_train_mask.shape==(1400, 17640)) and (X_test_mask.shape==(600, 17640)) and (y_test.shape==(600,))\n",
        "    flag_dtype = (X_train_mask.dtype==bool) and (X_test_mask.dtype==bool)\n",
        "    return flag_padshape and flag_maskshape and flag_dtype\n",
        "grader_padoutput()"
      ],
      "execution_count": 21,
      "outputs": [
        {
          "output_type": "execute_result",
          "data": {
            "text/plain": [
              "True"
            ]
          },
          "metadata": {
            "tags": []
          },
          "execution_count": 21
        }
      ]
    },
    {
      "cell_type": "markdown",
      "metadata": {
        "id": "K0kaYQ1jaNop"
      },
      "source": [
        "### 1. Giving Raw data directly. "
      ]
    },
    {
      "cell_type": "markdown",
      "metadata": {
        "id": "xGHxh3jTaNoq"
      },
      "source": [
        "<pre>\n",
        "Now we have\n",
        "\n",
        "Train data: X_train_pad_seq, X_train_mask and y_train  \n",
        "Test data: X_test_pad_seq, X_test_mask and y_test   \n",
        "\n",
        "We will create a LSTM model which takes this input. \n",
        "\n",
        "Task:\n",
        "\n",
        "1. Create an LSTM network which takes \"X_train_pad_seq\" as input, \"X_train_mask\" as mask input. You can use any number of LSTM cells. Please read LSTM documentation(https://www.tensorflow.org/api_docs/python/tf/keras/layers/LSTM) in tensorflow to know more about mask and also https://www.tensorflow.org/guide/keras/masking_and_padding \n",
        "2. Get the final output of the LSTM and give it to Dense layer of any size and then give it to Dense layer of size 10(because we have 10 outputs) and then compile with the sparse categorical cross entropy( because we are not converting it to one hot vectors). \n",
        "3. Use tensorboard to plot the graphs of loss and metric(use micro F1 score as metric) and histograms of gradients. \n",
        "4. make sure that it won't overfit. \n",
        "5. You are free to include any regularization\n",
        "</pre>"
      ]
    },
    {
      "cell_type": "code",
      "metadata": {
        "id": "X8yg951AaNor"
      },
      "source": [
        "from tensorflow.keras.layers import Input, LSTM, Dense\n",
        "from tensorflow.keras.models import Model\n",
        "import tensorflow as tf"
      ],
      "execution_count": 9,
      "outputs": []
    },
    {
      "cell_type": "code",
      "metadata": {
        "id": "3B0pADKsrGFD"
      },
      "source": [
        "def f1_m(y_true, y_pred):\n",
        "  y_pred1 = model.predict([X_test_pad_seq,X_test_mask])\n",
        "  y_pred = np.argmax(y_pred1, axis=1)\n",
        "\n",
        "  # Print f1, precision, and recall scores\n",
        "  return f1_score(y_test, y_pred , average=\"micro\")"
      ],
      "execution_count": 31,
      "outputs": []
    },
    {
      "cell_type": "code",
      "metadata": {
        "id": "xM0UqbXynIkF"
      },
      "source": [
        "from sklearn.metrics import confusion_matrix, f1_score, precision_score, recall_score, roc_auc_score\n",
        "class Metrics(tf.keras.callbacks.Callback):\n",
        "  def __init__(self, val_data, batch_size = 20):\n",
        "        super().__init__()\n",
        "        self.validation_data = val_data\n",
        "        self.batch_size = batch_size\n",
        "  def on_train_begin(self, logs={}):\n",
        "    self.val_f1s = []\n",
        "    \n",
        " \n",
        "  def on_epoch_end(self, epoch, logs={}):\n",
        "    \n",
        "    val0 = self.validation_data[0];\n",
        "    val_predict = self.model.predict(val0)\n",
        "    \n",
        "    #val_prob=((np.asarray(self.model.predict(new_data))))#.round())\n",
        "    val_targ = self.validation_data[1]\n",
        "    #val_predict = val_predict.argmax(axis=-1)\n",
        "    \n",
        "    _val_f1 = f1_score(val_targ, val_predict,average='micro')\n",
        "    \n",
        "    self.val_f1s.append(_val_f1)\n",
        "    print(' val_f1: {}' .format(_val_f1))\n",
        " \n",
        "\n",
        "val_input=[X_test_pad_seq,X_test_mask]\n",
        "metrics2 = Metrics(val_data=(val_input,y_test),batch_size=32)"
      ],
      "execution_count": 10,
      "outputs": []
    },
    {
      "cell_type": "code",
      "metadata": {
        "id": "d8y1sgeVaNoy"
      },
      "source": [
        "## as discussed above, please write the LSTM\n",
        "import tensorflow as tf\n",
        "from tensorflow.keras.layers import LSTM,Dense\n",
        "from tensorflow.keras.callbacks import ReduceLROnPlateau, TensorBoard\n",
        "input_layer= Input(shape=(17640,1,),name='input_layer')\n",
        "input_mask=Input(shape=(17640,),name='input_mask',dtype='bool')\n",
        "x = LSTM(25)(input_layer,mask=input_mask)\n",
        "x=Dense(50,activation='relu', kernel_initializer='he_normal')(x)\n",
        "output=Dense(10,activation='softmax')(x)\n",
        "model =Model(inputs=[input_layer,input_mask],outputs=output)\n",
        "model.compile(loss=tf.keras.losses.SparseCategoricalCrossentropy(), metrics=['accuracy'])"
      ],
      "execution_count": 19,
      "outputs": []
    },
    {
      "cell_type": "code",
      "metadata": {
        "id": "REVlqSCfrkG7",
        "outputId": "41b9e4f1-79c7-4962-d553-5bfcd2a89627",
        "colab": {
          "base_uri": "https://localhost:8080/",
          "height": 1000
        }
      },
      "source": [
        "import datetime\n",
        "reduce_lr = ReduceLROnPlateau(monitor='val_accuracy', factor =0.4)\n",
        "checkpoint_path = \"/content/drive/My Drive/recordings/my_model_weights.hdf5\"\n",
        "checkpoint_dir = os.path.dirname(checkpoint_path)\n",
        "checkpoint = tf.keras.callbacks.ModelCheckpoint(filepath='/content/drive/My Drive/recordings/my_model_weights{epoch}.hdf5',  verbose=1, save_weights_only=False,save_best_only=False, mode='auto') \n",
        "log_dir=\"/content/drive/My Drive/recordings/fit/\" + datetime.datetime.now().strftime(\"%Y%m%d-%H%M%S\") \n",
        "tensorboard_callback = tf.keras.callbacks.TensorBoard(log_dir=log_dir,histogram_freq=1, write_graph=True,write_grads=True)\n",
        "\n",
        "model.fit([X_train_pad_seq,X_train_mask],y_train,validation_data=([X_test_pad_seq,X_test_mask],y_test), epochs = 25, batch_size=32,callbacks=[metrics2,reduce_lr,tensorboard_callback])\n",
        "model.save_weights('/content/drive/My Drive/recordings/my_model_weights{epoch}.hdf5')\n",
        "model.save('/content/drive/My Drive/recordings/')"
      ],
      "execution_count": 25,
      "outputs": [
        {
          "output_type": "stream",
          "text": [
            "WARNING:tensorflow:`write_grads` will be ignored in TensorFlow 2.0 for the `TensorBoard` Callback.\n",
            "Epoch 1/25\n"
          ],
          "name": "stdout"
        },
        {
          "output_type": "error",
          "ename": "UnimplementedError",
          "evalue": "ignored",
          "traceback": [
            "\u001b[0;31m---------------------------------------------------------------------------\u001b[0m",
            "\u001b[0;31mUnimplementedError\u001b[0m                        Traceback (most recent call last)",
            "\u001b[0;32m<ipython-input-25-0ed595d2535a>\u001b[0m in \u001b[0;36m<module>\u001b[0;34m()\u001b[0m\n\u001b[1;32m      7\u001b[0m \u001b[0mtensorboard_callback\u001b[0m \u001b[0;34m=\u001b[0m \u001b[0mtf\u001b[0m\u001b[0;34m.\u001b[0m\u001b[0mkeras\u001b[0m\u001b[0;34m.\u001b[0m\u001b[0mcallbacks\u001b[0m\u001b[0;34m.\u001b[0m\u001b[0mTensorBoard\u001b[0m\u001b[0;34m(\u001b[0m\u001b[0mlog_dir\u001b[0m\u001b[0;34m=\u001b[0m\u001b[0mlog_dir\u001b[0m\u001b[0;34m,\u001b[0m\u001b[0mhistogram_freq\u001b[0m\u001b[0;34m=\u001b[0m\u001b[0;36m1\u001b[0m\u001b[0;34m,\u001b[0m \u001b[0mwrite_graph\u001b[0m\u001b[0;34m=\u001b[0m\u001b[0;32mTrue\u001b[0m\u001b[0;34m,\u001b[0m\u001b[0mwrite_grads\u001b[0m\u001b[0;34m=\u001b[0m\u001b[0;32mTrue\u001b[0m\u001b[0;34m)\u001b[0m\u001b[0;34m\u001b[0m\u001b[0;34m\u001b[0m\u001b[0m\n\u001b[1;32m      8\u001b[0m \u001b[0;34m\u001b[0m\u001b[0m\n\u001b[0;32m----> 9\u001b[0;31m \u001b[0mmodel\u001b[0m\u001b[0;34m.\u001b[0m\u001b[0mfit\u001b[0m\u001b[0;34m(\u001b[0m\u001b[0;34m[\u001b[0m\u001b[0mX_train_pad_seq\u001b[0m\u001b[0;34m,\u001b[0m\u001b[0mX_train_mask\u001b[0m\u001b[0;34m]\u001b[0m\u001b[0;34m,\u001b[0m\u001b[0my_train\u001b[0m\u001b[0;34m,\u001b[0m\u001b[0mvalidation_data\u001b[0m\u001b[0;34m=\u001b[0m\u001b[0;34m(\u001b[0m\u001b[0;34m[\u001b[0m\u001b[0mX_test_pad_seq\u001b[0m\u001b[0;34m,\u001b[0m\u001b[0mX_test_mask\u001b[0m\u001b[0;34m]\u001b[0m\u001b[0;34m,\u001b[0m\u001b[0my_test\u001b[0m\u001b[0;34m)\u001b[0m\u001b[0;34m,\u001b[0m \u001b[0mepochs\u001b[0m \u001b[0;34m=\u001b[0m \u001b[0;36m25\u001b[0m\u001b[0;34m,\u001b[0m \u001b[0mbatch_size\u001b[0m\u001b[0;34m=\u001b[0m\u001b[0;36m32\u001b[0m\u001b[0;34m,\u001b[0m\u001b[0mcallbacks\u001b[0m\u001b[0;34m=\u001b[0m\u001b[0;34m[\u001b[0m\u001b[0mmetrics2\u001b[0m\u001b[0;34m,\u001b[0m\u001b[0mreduce_lr\u001b[0m\u001b[0;34m,\u001b[0m\u001b[0mtensorboard_callback\u001b[0m\u001b[0;34m]\u001b[0m\u001b[0;34m)\u001b[0m\u001b[0;34m\u001b[0m\u001b[0;34m\u001b[0m\u001b[0m\n\u001b[0m\u001b[1;32m     10\u001b[0m \u001b[0mmodel\u001b[0m\u001b[0;34m.\u001b[0m\u001b[0msave_weights\u001b[0m\u001b[0;34m(\u001b[0m\u001b[0;34m'/content/drive/My Drive/recordings/my_model_weights{epoch}.hdf5'\u001b[0m\u001b[0;34m)\u001b[0m\u001b[0;34m\u001b[0m\u001b[0;34m\u001b[0m\u001b[0m\n\u001b[1;32m     11\u001b[0m \u001b[0mmodel\u001b[0m\u001b[0;34m.\u001b[0m\u001b[0msave\u001b[0m\u001b[0;34m(\u001b[0m\u001b[0;34m'/content/drive/My Drive/recordings/'\u001b[0m\u001b[0;34m)\u001b[0m\u001b[0;34m\u001b[0m\u001b[0;34m\u001b[0m\u001b[0m\n",
            "\u001b[0;32m/usr/local/lib/python3.6/dist-packages/tensorflow/python/keras/engine/training.py\u001b[0m in \u001b[0;36m_method_wrapper\u001b[0;34m(self, *args, **kwargs)\u001b[0m\n\u001b[1;32m    106\u001b[0m   \u001b[0;32mdef\u001b[0m \u001b[0m_method_wrapper\u001b[0m\u001b[0;34m(\u001b[0m\u001b[0mself\u001b[0m\u001b[0;34m,\u001b[0m \u001b[0;34m*\u001b[0m\u001b[0margs\u001b[0m\u001b[0;34m,\u001b[0m \u001b[0;34m**\u001b[0m\u001b[0mkwargs\u001b[0m\u001b[0;34m)\u001b[0m\u001b[0;34m:\u001b[0m\u001b[0;34m\u001b[0m\u001b[0;34m\u001b[0m\u001b[0m\n\u001b[1;32m    107\u001b[0m     \u001b[0;32mif\u001b[0m \u001b[0;32mnot\u001b[0m \u001b[0mself\u001b[0m\u001b[0;34m.\u001b[0m\u001b[0m_in_multi_worker_mode\u001b[0m\u001b[0;34m(\u001b[0m\u001b[0;34m)\u001b[0m\u001b[0;34m:\u001b[0m  \u001b[0;31m# pylint: disable=protected-access\u001b[0m\u001b[0;34m\u001b[0m\u001b[0;34m\u001b[0m\u001b[0m\n\u001b[0;32m--> 108\u001b[0;31m       \u001b[0;32mreturn\u001b[0m \u001b[0mmethod\u001b[0m\u001b[0;34m(\u001b[0m\u001b[0mself\u001b[0m\u001b[0;34m,\u001b[0m \u001b[0;34m*\u001b[0m\u001b[0margs\u001b[0m\u001b[0;34m,\u001b[0m \u001b[0;34m**\u001b[0m\u001b[0mkwargs\u001b[0m\u001b[0;34m)\u001b[0m\u001b[0;34m\u001b[0m\u001b[0;34m\u001b[0m\u001b[0m\n\u001b[0m\u001b[1;32m    109\u001b[0m \u001b[0;34m\u001b[0m\u001b[0m\n\u001b[1;32m    110\u001b[0m     \u001b[0;31m# Running inside `run_distribute_coordinator` already.\u001b[0m\u001b[0;34m\u001b[0m\u001b[0;34m\u001b[0m\u001b[0;34m\u001b[0m\u001b[0m\n",
            "\u001b[0;32m/usr/local/lib/python3.6/dist-packages/tensorflow/python/keras/engine/training.py\u001b[0m in \u001b[0;36mfit\u001b[0;34m(self, x, y, batch_size, epochs, verbose, callbacks, validation_split, validation_data, shuffle, class_weight, sample_weight, initial_epoch, steps_per_epoch, validation_steps, validation_batch_size, validation_freq, max_queue_size, workers, use_multiprocessing)\u001b[0m\n\u001b[1;32m   1096\u001b[0m                 batch_size=batch_size):\n\u001b[1;32m   1097\u001b[0m               \u001b[0mcallbacks\u001b[0m\u001b[0;34m.\u001b[0m\u001b[0mon_train_batch_begin\u001b[0m\u001b[0;34m(\u001b[0m\u001b[0mstep\u001b[0m\u001b[0;34m)\u001b[0m\u001b[0;34m\u001b[0m\u001b[0;34m\u001b[0m\u001b[0m\n\u001b[0;32m-> 1098\u001b[0;31m               \u001b[0mtmp_logs\u001b[0m \u001b[0;34m=\u001b[0m \u001b[0mtrain_function\u001b[0m\u001b[0;34m(\u001b[0m\u001b[0miterator\u001b[0m\u001b[0;34m)\u001b[0m\u001b[0;34m\u001b[0m\u001b[0;34m\u001b[0m\u001b[0m\n\u001b[0m\u001b[1;32m   1099\u001b[0m               \u001b[0;32mif\u001b[0m \u001b[0mdata_handler\u001b[0m\u001b[0;34m.\u001b[0m\u001b[0mshould_sync\u001b[0m\u001b[0;34m:\u001b[0m\u001b[0;34m\u001b[0m\u001b[0;34m\u001b[0m\u001b[0m\n\u001b[1;32m   1100\u001b[0m                 \u001b[0mcontext\u001b[0m\u001b[0;34m.\u001b[0m\u001b[0masync_wait\u001b[0m\u001b[0;34m(\u001b[0m\u001b[0;34m)\u001b[0m\u001b[0;34m\u001b[0m\u001b[0;34m\u001b[0m\u001b[0m\n",
            "\u001b[0;32m/usr/local/lib/python3.6/dist-packages/tensorflow/python/eager/def_function.py\u001b[0m in \u001b[0;36m__call__\u001b[0;34m(self, *args, **kwds)\u001b[0m\n\u001b[1;32m    778\u001b[0m       \u001b[0;32melse\u001b[0m\u001b[0;34m:\u001b[0m\u001b[0;34m\u001b[0m\u001b[0;34m\u001b[0m\u001b[0m\n\u001b[1;32m    779\u001b[0m         \u001b[0mcompiler\u001b[0m \u001b[0;34m=\u001b[0m \u001b[0;34m\"nonXla\"\u001b[0m\u001b[0;34m\u001b[0m\u001b[0;34m\u001b[0m\u001b[0m\n\u001b[0;32m--> 780\u001b[0;31m         \u001b[0mresult\u001b[0m \u001b[0;34m=\u001b[0m \u001b[0mself\u001b[0m\u001b[0;34m.\u001b[0m\u001b[0m_call\u001b[0m\u001b[0;34m(\u001b[0m\u001b[0;34m*\u001b[0m\u001b[0margs\u001b[0m\u001b[0;34m,\u001b[0m \u001b[0;34m**\u001b[0m\u001b[0mkwds\u001b[0m\u001b[0;34m)\u001b[0m\u001b[0;34m\u001b[0m\u001b[0;34m\u001b[0m\u001b[0m\n\u001b[0m\u001b[1;32m    781\u001b[0m \u001b[0;34m\u001b[0m\u001b[0m\n\u001b[1;32m    782\u001b[0m       \u001b[0mnew_tracing_count\u001b[0m \u001b[0;34m=\u001b[0m \u001b[0mself\u001b[0m\u001b[0;34m.\u001b[0m\u001b[0m_get_tracing_count\u001b[0m\u001b[0;34m(\u001b[0m\u001b[0;34m)\u001b[0m\u001b[0;34m\u001b[0m\u001b[0;34m\u001b[0m\u001b[0m\n",
            "\u001b[0;32m/usr/local/lib/python3.6/dist-packages/tensorflow/python/eager/def_function.py\u001b[0m in \u001b[0;36m_call\u001b[0;34m(self, *args, **kwds)\u001b[0m\n\u001b[1;32m    805\u001b[0m       \u001b[0;31m# In this case we have created variables on the first call, so we run the\u001b[0m\u001b[0;34m\u001b[0m\u001b[0;34m\u001b[0m\u001b[0;34m\u001b[0m\u001b[0m\n\u001b[1;32m    806\u001b[0m       \u001b[0;31m# defunned version which is guaranteed to never create variables.\u001b[0m\u001b[0;34m\u001b[0m\u001b[0;34m\u001b[0m\u001b[0;34m\u001b[0m\u001b[0m\n\u001b[0;32m--> 807\u001b[0;31m       \u001b[0;32mreturn\u001b[0m \u001b[0mself\u001b[0m\u001b[0;34m.\u001b[0m\u001b[0m_stateless_fn\u001b[0m\u001b[0;34m(\u001b[0m\u001b[0;34m*\u001b[0m\u001b[0margs\u001b[0m\u001b[0;34m,\u001b[0m \u001b[0;34m**\u001b[0m\u001b[0mkwds\u001b[0m\u001b[0;34m)\u001b[0m  \u001b[0;31m# pylint: disable=not-callable\u001b[0m\u001b[0;34m\u001b[0m\u001b[0;34m\u001b[0m\u001b[0m\n\u001b[0m\u001b[1;32m    808\u001b[0m     \u001b[0;32melif\u001b[0m \u001b[0mself\u001b[0m\u001b[0;34m.\u001b[0m\u001b[0m_stateful_fn\u001b[0m \u001b[0;32mis\u001b[0m \u001b[0;32mnot\u001b[0m \u001b[0;32mNone\u001b[0m\u001b[0;34m:\u001b[0m\u001b[0;34m\u001b[0m\u001b[0;34m\u001b[0m\u001b[0m\n\u001b[1;32m    809\u001b[0m       \u001b[0;31m# Release the lock early so that multiple threads can perform the call\u001b[0m\u001b[0;34m\u001b[0m\u001b[0;34m\u001b[0m\u001b[0;34m\u001b[0m\u001b[0m\n",
            "\u001b[0;32m/usr/local/lib/python3.6/dist-packages/tensorflow/python/eager/function.py\u001b[0m in \u001b[0;36m__call__\u001b[0;34m(self, *args, **kwargs)\u001b[0m\n\u001b[1;32m   2827\u001b[0m     \u001b[0;32mwith\u001b[0m \u001b[0mself\u001b[0m\u001b[0;34m.\u001b[0m\u001b[0m_lock\u001b[0m\u001b[0;34m:\u001b[0m\u001b[0;34m\u001b[0m\u001b[0;34m\u001b[0m\u001b[0m\n\u001b[1;32m   2828\u001b[0m       \u001b[0mgraph_function\u001b[0m\u001b[0;34m,\u001b[0m \u001b[0margs\u001b[0m\u001b[0;34m,\u001b[0m \u001b[0mkwargs\u001b[0m \u001b[0;34m=\u001b[0m \u001b[0mself\u001b[0m\u001b[0;34m.\u001b[0m\u001b[0m_maybe_define_function\u001b[0m\u001b[0;34m(\u001b[0m\u001b[0margs\u001b[0m\u001b[0;34m,\u001b[0m \u001b[0mkwargs\u001b[0m\u001b[0;34m)\u001b[0m\u001b[0;34m\u001b[0m\u001b[0;34m\u001b[0m\u001b[0m\n\u001b[0;32m-> 2829\u001b[0;31m     \u001b[0;32mreturn\u001b[0m \u001b[0mgraph_function\u001b[0m\u001b[0;34m.\u001b[0m\u001b[0m_filtered_call\u001b[0m\u001b[0;34m(\u001b[0m\u001b[0margs\u001b[0m\u001b[0;34m,\u001b[0m \u001b[0mkwargs\u001b[0m\u001b[0;34m)\u001b[0m  \u001b[0;31m# pylint: disable=protected-access\u001b[0m\u001b[0;34m\u001b[0m\u001b[0;34m\u001b[0m\u001b[0m\n\u001b[0m\u001b[1;32m   2830\u001b[0m \u001b[0;34m\u001b[0m\u001b[0m\n\u001b[1;32m   2831\u001b[0m   \u001b[0;34m@\u001b[0m\u001b[0mproperty\u001b[0m\u001b[0;34m\u001b[0m\u001b[0;34m\u001b[0m\u001b[0m\n",
            "\u001b[0;32m/usr/local/lib/python3.6/dist-packages/tensorflow/python/eager/function.py\u001b[0m in \u001b[0;36m_filtered_call\u001b[0;34m(self, args, kwargs, cancellation_manager)\u001b[0m\n\u001b[1;32m   1846\u001b[0m                            resource_variable_ops.BaseResourceVariable))],\n\u001b[1;32m   1847\u001b[0m         \u001b[0mcaptured_inputs\u001b[0m\u001b[0;34m=\u001b[0m\u001b[0mself\u001b[0m\u001b[0;34m.\u001b[0m\u001b[0mcaptured_inputs\u001b[0m\u001b[0;34m,\u001b[0m\u001b[0;34m\u001b[0m\u001b[0;34m\u001b[0m\u001b[0m\n\u001b[0;32m-> 1848\u001b[0;31m         cancellation_manager=cancellation_manager)\n\u001b[0m\u001b[1;32m   1849\u001b[0m \u001b[0;34m\u001b[0m\u001b[0m\n\u001b[1;32m   1850\u001b[0m   \u001b[0;32mdef\u001b[0m \u001b[0m_call_flat\u001b[0m\u001b[0;34m(\u001b[0m\u001b[0mself\u001b[0m\u001b[0;34m,\u001b[0m \u001b[0margs\u001b[0m\u001b[0;34m,\u001b[0m \u001b[0mcaptured_inputs\u001b[0m\u001b[0;34m,\u001b[0m \u001b[0mcancellation_manager\u001b[0m\u001b[0;34m=\u001b[0m\u001b[0;32mNone\u001b[0m\u001b[0;34m)\u001b[0m\u001b[0;34m:\u001b[0m\u001b[0;34m\u001b[0m\u001b[0;34m\u001b[0m\u001b[0m\n",
            "\u001b[0;32m/usr/local/lib/python3.6/dist-packages/tensorflow/python/eager/function.py\u001b[0m in \u001b[0;36m_call_flat\u001b[0;34m(self, args, captured_inputs, cancellation_manager)\u001b[0m\n\u001b[1;32m   1922\u001b[0m       \u001b[0;31m# No tape is watching; skip to running the function.\u001b[0m\u001b[0;34m\u001b[0m\u001b[0;34m\u001b[0m\u001b[0;34m\u001b[0m\u001b[0m\n\u001b[1;32m   1923\u001b[0m       return self._build_call_outputs(self._inference_function.call(\n\u001b[0;32m-> 1924\u001b[0;31m           ctx, args, cancellation_manager=cancellation_manager))\n\u001b[0m\u001b[1;32m   1925\u001b[0m     forward_backward = self._select_forward_and_backward_functions(\n\u001b[1;32m   1926\u001b[0m         \u001b[0margs\u001b[0m\u001b[0;34m,\u001b[0m\u001b[0;34m\u001b[0m\u001b[0;34m\u001b[0m\u001b[0m\n",
            "\u001b[0;32m/usr/local/lib/python3.6/dist-packages/tensorflow/python/eager/function.py\u001b[0m in \u001b[0;36mcall\u001b[0;34m(self, ctx, args, cancellation_manager)\u001b[0m\n\u001b[1;32m    548\u001b[0m               \u001b[0minputs\u001b[0m\u001b[0;34m=\u001b[0m\u001b[0margs\u001b[0m\u001b[0;34m,\u001b[0m\u001b[0;34m\u001b[0m\u001b[0;34m\u001b[0m\u001b[0m\n\u001b[1;32m    549\u001b[0m               \u001b[0mattrs\u001b[0m\u001b[0;34m=\u001b[0m\u001b[0mattrs\u001b[0m\u001b[0;34m,\u001b[0m\u001b[0;34m\u001b[0m\u001b[0;34m\u001b[0m\u001b[0m\n\u001b[0;32m--> 550\u001b[0;31m               ctx=ctx)\n\u001b[0m\u001b[1;32m    551\u001b[0m         \u001b[0;32melse\u001b[0m\u001b[0;34m:\u001b[0m\u001b[0;34m\u001b[0m\u001b[0;34m\u001b[0m\u001b[0m\n\u001b[1;32m    552\u001b[0m           outputs = execute.execute_with_cancellation(\n",
            "\u001b[0;32m/usr/local/lib/python3.6/dist-packages/tensorflow/python/eager/execute.py\u001b[0m in \u001b[0;36mquick_execute\u001b[0;34m(op_name, num_outputs, inputs, attrs, ctx, name)\u001b[0m\n\u001b[1;32m     58\u001b[0m     \u001b[0mctx\u001b[0m\u001b[0;34m.\u001b[0m\u001b[0mensure_initialized\u001b[0m\u001b[0;34m(\u001b[0m\u001b[0;34m)\u001b[0m\u001b[0;34m\u001b[0m\u001b[0;34m\u001b[0m\u001b[0m\n\u001b[1;32m     59\u001b[0m     tensors = pywrap_tfe.TFE_Py_Execute(ctx._handle, device_name, op_name,\n\u001b[0;32m---> 60\u001b[0;31m                                         inputs, attrs, num_outputs)\n\u001b[0m\u001b[1;32m     61\u001b[0m   \u001b[0;32mexcept\u001b[0m \u001b[0mcore\u001b[0m\u001b[0;34m.\u001b[0m\u001b[0m_NotOkStatusException\u001b[0m \u001b[0;32mas\u001b[0m \u001b[0me\u001b[0m\u001b[0;34m:\u001b[0m\u001b[0;34m\u001b[0m\u001b[0;34m\u001b[0m\u001b[0m\n\u001b[1;32m     62\u001b[0m     \u001b[0;32mif\u001b[0m \u001b[0mname\u001b[0m \u001b[0;32mis\u001b[0m \u001b[0;32mnot\u001b[0m \u001b[0;32mNone\u001b[0m\u001b[0;34m:\u001b[0m\u001b[0;34m\u001b[0m\u001b[0;34m\u001b[0m\u001b[0m\n",
            "\u001b[0;31mUnimplementedError\u001b[0m:  Cast string to float is not supported\n\t [[node Cast_1 (defined at <ipython-input-20-548609cd03ba>:11) ]] [Op:__inference_train_function_19420]\n\nFunction call stack:\ntrain_function\n"
          ]
        }
      ]
    },
    {
      "cell_type": "code",
      "metadata": {
        "id": "RPj_DGW2aNo9",
        "outputId": "439991c1-1f07-4a25-d142-dd02363f9d88",
        "colab": {
          "base_uri": "https://localhost:8080/",
          "height": 354
        }
      },
      "source": [
        "model.summary()"
      ],
      "execution_count": 14,
      "outputs": [
        {
          "output_type": "stream",
          "text": [
            "Model: \"functional_1\"\n",
            "__________________________________________________________________________________________________\n",
            "Layer (type)                    Output Shape         Param #     Connected to                     \n",
            "==================================================================================================\n",
            "input_layer (InputLayer)        [(None, 17640, 1)]   0                                            \n",
            "__________________________________________________________________________________________________\n",
            "input_mask (InputLayer)         [(None, 17640)]      0                                            \n",
            "__________________________________________________________________________________________________\n",
            "lstm (LSTM)                     (None, 25)           2700        input_layer[0][0]                \n",
            "                                                                 input_mask[0][0]                 \n",
            "__________________________________________________________________________________________________\n",
            "dense (Dense)                   (None, 50)           1300        lstm[0][0]                       \n",
            "__________________________________________________________________________________________________\n",
            "dense_1 (Dense)                 (None, 10)           510         dense[0][0]                      \n",
            "==================================================================================================\n",
            "Total params: 4,510\n",
            "Trainable params: 4,510\n",
            "Non-trainable params: 0\n",
            "__________________________________________________________________________________________________\n"
          ],
          "name": "stdout"
        }
      ]
    },
    {
      "cell_type": "code",
      "metadata": {
        "id": "MzpPjxvHaNpJ"
      },
      "source": [
        "#train your model"
      ],
      "execution_count": null,
      "outputs": []
    },
    {
      "cell_type": "markdown",
      "metadata": {
        "id": "2Fwk0X4zaNpR"
      },
      "source": [
        "### 2. Converting into spectrogram and giving spectrogram data as input  \n",
        "<pre>\n",
        "We can use librosa to convert raw data into spectrogram. A spectrogram shows the features in a two-dimensional representation with the\n",
        "intensity of a frequency at a point in time i.e we are converting Time domain to frequency domain. you can read more about this in https://pnsn.org/spectrograms/what-is-a-spectrogram\n",
        "</pre>"
      ]
    },
    {
      "cell_type": "code",
      "metadata": {
        "id": "nb5AGzTjaNpS"
      },
      "source": [
        "def convert_to_spectrogram(raw_data):\n",
        "    '''converting to spectrogram'''\n",
        "    spectrum = librosa.feature.melspectrogram(y=raw_data, sr=sample_rate, n_mels=64)\n",
        "    logmel_spectrum = librosa.power_to_db(S=spectrum, ref=np.max)\n",
        "    return logmel_spectrum"
      ],
      "execution_count": null,
      "outputs": []
    },
    {
      "cell_type": "code",
      "metadata": {
        "id": "B__rN4RjaNpc"
      },
      "source": [
        "##use convert_to_spectrogram and convert every raw sequence in X_train_pad_seq and X_test_pad-seq.\n",
        "## save those all in the X_train_spectrogram and X_test_spectrogram ( These two arrays must be numpy arrays)\n"
      ],
      "execution_count": null,
      "outputs": []
    },
    {
      "cell_type": "markdown",
      "metadata": {
        "id": "zr1ynYZnaNpj"
      },
      "source": [
        "<font size=4>Grader function 6 </font>"
      ]
    },
    {
      "cell_type": "code",
      "metadata": {
        "id": "oniXBXcsaNpk",
        "outputId": "0f94ec35-98af-4b98-c501-35cbbfbd0a2e"
      },
      "source": [
        "def grader_spectrogram():\n",
        "    flag_shape = (X_train_spectrogram.shape==(1400,64, 35)) and (X_test_spectrogram.shape == (600, 64, 35))\n",
        "    return flag_shape\n",
        "grader_spectrogram()"
      ],
      "execution_count": null,
      "outputs": [
        {
          "output_type": "execute_result",
          "data": {
            "text/plain": [
              "True"
            ]
          },
          "metadata": {
            "tags": []
          },
          "execution_count": 28
        }
      ]
    },
    {
      "cell_type": "markdown",
      "metadata": {
        "id": "xxlEVyIYaNpt"
      },
      "source": [
        "<pre>\n",
        "Now we have\n",
        "\n",
        "Train data: X_train_spectrogram and y_train  \n",
        "Test data: X_test_spectrogram and y_test   \n",
        "\n",
        "We will create a LSTM model which takes this input. \n",
        "\n",
        "Task:\n",
        "\n",
        "1. Create an LSTM network which takes \"X_train_spectrogram\" as input and has to return output at every time step. \n",
        "2. Average the output of every time step and give this to the Dense layer of any size. \n",
        "3. give the above output to Dense layer of size 10( output layer) and train the network with sparse categorical cross entropy.  \n",
        "4. Use tensorboard to plot the graphs of loss and metric(use micro F1 score as metric) and histograms of gradients. \n",
        "5. make sure that it won't overfit. \n",
        "6. You are free to include any regularization\n",
        "</pre>"
      ]
    },
    {
      "cell_type": "code",
      "metadata": {
        "id": "IaQjaiiGaNpv"
      },
      "source": [
        ""
      ],
      "execution_count": null,
      "outputs": []
    },
    {
      "cell_type": "code",
      "metadata": {
        "id": "862fP2e-aNp3"
      },
      "source": [
        ""
      ],
      "execution_count": null,
      "outputs": []
    },
    {
      "cell_type": "code",
      "metadata": {
        "id": "VtMsbGs3aNp_"
      },
      "source": [
        ""
      ],
      "execution_count": null,
      "outputs": []
    },
    {
      "cell_type": "markdown",
      "metadata": {
        "id": "aSl8ZOXjaNqJ"
      },
      "source": [
        "### 3. data augmentation  \n",
        "<pre>\n",
        "Till now we have done with 2000 samples only. It is very less data. We are giving the process of generating augmented data below.\n",
        "\n",
        "There are two types of augmentation:\n",
        "1. time stretching - Time stretching either increases or decreases the length of the file. For time stretching we move the file 30% faster or slower\n",
        "2. pitch shifting - pitch shifting moves the frequencies higher or lower. For pitch shifting we shift up or down one half-step.\n",
        "</pre>"
      ]
    },
    {
      "cell_type": "code",
      "metadata": {
        "id": "jR4JSEDgaNqK"
      },
      "source": [
        "## generating augmented data. \n",
        "def generate_augmented_data(file_path):\n",
        "    augmented_data = []\n",
        "    samples = load_wav(file_path,get_duration=False)\n",
        "    for time_value in [0.7, 1, 1.3]:\n",
        "        for pitch_value in [-1, 0, 1]:\n",
        "            time_stretch_data = librosa.effects.time_stretch(samples, rate=time_value)\n",
        "            final_data = librosa.effects.pitch_shift(time_stretch_data, sr=sample_rate, n_steps=pitch_value)\n",
        "            augmented_data.append(final_data)\n",
        "    return augmented_data"
      ],
      "execution_count": null,
      "outputs": []
    },
    {
      "cell_type": "code",
      "metadata": {
        "id": "QRdefb-SaNqS"
      },
      "source": [
        "temp_path = df_audio.iloc[0].path\n",
        "aug_temp = generate_augmented_data(temp_path)"
      ],
      "execution_count": null,
      "outputs": []
    },
    {
      "cell_type": "code",
      "metadata": {
        "id": "kzdG3iS-aNqc",
        "outputId": "0f17e45e-63a0-4986-8f69-05e2dbd71bac"
      },
      "source": [
        "len(aug_temp)"
      ],
      "execution_count": null,
      "outputs": [
        {
          "output_type": "execute_result",
          "data": {
            "text/plain": [
              "9"
            ]
          },
          "metadata": {
            "tags": []
          },
          "execution_count": 31
        }
      ]
    },
    {
      "cell_type": "markdown",
      "metadata": {
        "id": "ZckytZsraNqk"
      },
      "source": [
        "As discussed above, for one data point, we will get 9 augmented data points.  \n",
        "We have 2000 data points(train plus test) so, after augmentation we will get 18000 ( train - 12600, test - 5400). \n",
        "\n",
        "do the above steps i.e training with raw data and spectrogram data with augmentation."
      ]
    },
    {
      "cell_type": "code",
      "metadata": {
        "id": "AdKXVRlpaNql"
      },
      "source": [
        ""
      ],
      "execution_count": null,
      "outputs": []
    }
  ]
}